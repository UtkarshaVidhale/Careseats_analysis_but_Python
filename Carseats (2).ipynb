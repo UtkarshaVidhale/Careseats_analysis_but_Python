{
 "cells": [
  {
   "cell_type": "markdown",
   "metadata": {},
   "source": [
    "## Utkarsha Vidhale\n",
    "# Sales of Child Car Seats Analysis\n",
    "Dataset : https://r-data.pmagunia.com/dataset/r-dataset-package-islr-carseats\n",
    "\n",
    "This dataset is a part of ISLR package. I tried to perform some analysis in Python instead of R .\n",
    "\n"
   ]
  },
  {
   "cell_type": "markdown",
   "metadata": {},
   "source": [
    "### Libraries used:"
   ]
  },
  {
   "cell_type": "code",
   "execution_count": 1,
   "metadata": {},
   "outputs": [],
   "source": [
    "import numpy as np\n",
    "import pandas as pd\n",
    "import statsmodels.api as sm\n",
    "import seaborn as sns\n",
    "import matplotlib.pyplot as plt\n",
    "from heatmap import heatmap, corrplot\n",
    "from sklearn.tree import DecisionTreeClassifier \n",
    "from sklearn import tree\n",
    "from sklearn import linear_model\n",
    "from sklearn.metrics import mean_squared_error, r2_score\n",
    "import math \n",
    "import statsmodels.api as sm\n",
    "from statsmodels.formula.api import ols\n",
    "from sklearn.linear_model import LinearRegression\n",
    "from sklearn import metrics\n",
    "import statsmodels.formula.api as SM"
   ]
  },
  {
   "cell_type": "markdown",
   "metadata": {},
   "source": [
    "### Loading the dataset"
   ]
  },
  {
   "cell_type": "code",
   "execution_count": 2,
   "metadata": {
    "scrolled": true
   },
   "outputs": [
    {
     "data": {
      "text/html": [
       "<div>\n",
       "<style scoped>\n",
       "    .dataframe tbody tr th:only-of-type {\n",
       "        vertical-align: middle;\n",
       "    }\n",
       "\n",
       "    .dataframe tbody tr th {\n",
       "        vertical-align: top;\n",
       "    }\n",
       "\n",
       "    .dataframe thead th {\n",
       "        text-align: right;\n",
       "    }\n",
       "</style>\n",
       "<table border=\"1\" class=\"dataframe\">\n",
       "  <thead>\n",
       "    <tr style=\"text-align: right;\">\n",
       "      <th></th>\n",
       "      <th>Sales</th>\n",
       "      <th>CompPrice</th>\n",
       "      <th>Income</th>\n",
       "      <th>Advertising</th>\n",
       "      <th>Population</th>\n",
       "      <th>Price</th>\n",
       "      <th>ShelveLoc</th>\n",
       "      <th>Age</th>\n",
       "      <th>Education</th>\n",
       "      <th>Urban</th>\n",
       "      <th>US</th>\n",
       "    </tr>\n",
       "  </thead>\n",
       "  <tbody>\n",
       "    <tr>\n",
       "      <th>0</th>\n",
       "      <td>9.50</td>\n",
       "      <td>138</td>\n",
       "      <td>73</td>\n",
       "      <td>11</td>\n",
       "      <td>276</td>\n",
       "      <td>120</td>\n",
       "      <td>Bad</td>\n",
       "      <td>42</td>\n",
       "      <td>17</td>\n",
       "      <td>Yes</td>\n",
       "      <td>Yes</td>\n",
       "    </tr>\n",
       "    <tr>\n",
       "      <th>1</th>\n",
       "      <td>11.22</td>\n",
       "      <td>111</td>\n",
       "      <td>48</td>\n",
       "      <td>16</td>\n",
       "      <td>260</td>\n",
       "      <td>83</td>\n",
       "      <td>Good</td>\n",
       "      <td>65</td>\n",
       "      <td>10</td>\n",
       "      <td>Yes</td>\n",
       "      <td>Yes</td>\n",
       "    </tr>\n",
       "    <tr>\n",
       "      <th>2</th>\n",
       "      <td>10.06</td>\n",
       "      <td>113</td>\n",
       "      <td>35</td>\n",
       "      <td>10</td>\n",
       "      <td>269</td>\n",
       "      <td>80</td>\n",
       "      <td>Medium</td>\n",
       "      <td>59</td>\n",
       "      <td>12</td>\n",
       "      <td>Yes</td>\n",
       "      <td>Yes</td>\n",
       "    </tr>\n",
       "    <tr>\n",
       "      <th>3</th>\n",
       "      <td>7.40</td>\n",
       "      <td>117</td>\n",
       "      <td>100</td>\n",
       "      <td>4</td>\n",
       "      <td>466</td>\n",
       "      <td>97</td>\n",
       "      <td>Medium</td>\n",
       "      <td>55</td>\n",
       "      <td>14</td>\n",
       "      <td>Yes</td>\n",
       "      <td>Yes</td>\n",
       "    </tr>\n",
       "    <tr>\n",
       "      <th>4</th>\n",
       "      <td>4.15</td>\n",
       "      <td>141</td>\n",
       "      <td>64</td>\n",
       "      <td>3</td>\n",
       "      <td>340</td>\n",
       "      <td>128</td>\n",
       "      <td>Bad</td>\n",
       "      <td>38</td>\n",
       "      <td>13</td>\n",
       "      <td>Yes</td>\n",
       "      <td>No</td>\n",
       "    </tr>\n",
       "  </tbody>\n",
       "</table>\n",
       "</div>"
      ],
      "text/plain": [
       "   Sales  CompPrice  Income  Advertising  Population  Price ShelveLoc  Age  \\\n",
       "0   9.50        138      73           11         276    120       Bad   42   \n",
       "1  11.22        111      48           16         260     83      Good   65   \n",
       "2  10.06        113      35           10         269     80    Medium   59   \n",
       "3   7.40        117     100            4         466     97    Medium   55   \n",
       "4   4.15        141      64            3         340    128       Bad   38   \n",
       "\n",
       "   Education Urban   US  \n",
       "0         17   Yes  Yes  \n",
       "1         10   Yes  Yes  \n",
       "2         12   Yes  Yes  \n",
       "3         14   Yes  Yes  \n",
       "4         13   Yes   No  "
      ]
     },
     "execution_count": 2,
     "metadata": {},
     "output_type": "execute_result"
    }
   ],
   "source": [
    "df = pd.read_csv('Carseats.csv')\n",
    "df.head()"
   ]
  },
  {
   "cell_type": "code",
   "execution_count": 3,
   "metadata": {},
   "outputs": [
    {
     "data": {
      "text/plain": [
       "Sales          float64\n",
       "CompPrice        int64\n",
       "Income           int64\n",
       "Advertising      int64\n",
       "Population       int64\n",
       "Price            int64\n",
       "ShelveLoc       object\n",
       "Age              int64\n",
       "Education        int64\n",
       "Urban           object\n",
       "US              object\n",
       "dtype: object"
      ]
     },
     "execution_count": 3,
     "metadata": {},
     "output_type": "execute_result"
    }
   ],
   "source": [
    "df.dtypes"
   ]
  },
  {
   "cell_type": "code",
   "execution_count": 4,
   "metadata": {},
   "outputs": [
    {
     "data": {
      "text/plain": [
       "Sales          0\n",
       "CompPrice      0\n",
       "Income         0\n",
       "Advertising    0\n",
       "Population     0\n",
       "Price          0\n",
       "ShelveLoc      0\n",
       "Age            0\n",
       "Education      0\n",
       "Urban          0\n",
       "US             0\n",
       "dtype: int64"
      ]
     },
     "execution_count": 4,
     "metadata": {},
     "output_type": "execute_result"
    }
   ],
   "source": [
    "df.isnull().sum()"
   ]
  },
  {
   "cell_type": "markdown",
   "metadata": {},
   "source": [
    "We will be trying to predict the sales of carseats. In this data set, a single observation represents a location where carseats are sold.\n",
    "\n",
    "- Sales - Unit sales (in thousands) at each location \n",
    "\n",
    "\n",
    "- CompPrice - Price charged by competitor at each location \n",
    "\n",
    "\n",
    "- Income - Community income level (in thousands of dollars) \n",
    "\n",
    "\n",
    "- Advertising - Local advertising budget for company at each location (in thousands of dollars) \n",
    "\n",
    "\n",
    "- Population - Population size in region (in thousands) \n",
    "\n",
    "\n",
    "- Price - Price company charges for car seats at each site \n",
    "\n",
    "\n",
    "- ShelveLoc - A factor with levels Bad, Good and Medium indicating the quality of the shelving location for the car seats at each site \n",
    "\n",
    "\n",
    "- Age - Average age of the local population \n",
    "\n",
    "\n",
    "- Education - Education level at each location \n",
    "\n",
    "\n",
    "- Urban - A factor with levels No and Yes to indicate whether the store is in an urban or rural location \n",
    "\n",
    "\n",
    "- US - A factor with levels No and Yes to indicate whether the store is in the US or not \n"
   ]
  },
  {
   "cell_type": "code",
   "execution_count": 5,
   "metadata": {},
   "outputs": [],
   "source": [
    "df_dummy = pd.get_dummies(df,drop_first=True)"
   ]
  },
  {
   "cell_type": "code",
   "execution_count": 6,
   "metadata": {},
   "outputs": [
    {
     "data": {
      "text/html": [
       "<div>\n",
       "<style scoped>\n",
       "    .dataframe tbody tr th:only-of-type {\n",
       "        vertical-align: middle;\n",
       "    }\n",
       "\n",
       "    .dataframe tbody tr th {\n",
       "        vertical-align: top;\n",
       "    }\n",
       "\n",
       "    .dataframe thead th {\n",
       "        text-align: right;\n",
       "    }\n",
       "</style>\n",
       "<table border=\"1\" class=\"dataframe\">\n",
       "  <thead>\n",
       "    <tr style=\"text-align: right;\">\n",
       "      <th></th>\n",
       "      <th>Sales</th>\n",
       "      <th>CompPrice</th>\n",
       "      <th>Income</th>\n",
       "      <th>Advertising</th>\n",
       "      <th>Population</th>\n",
       "      <th>Price</th>\n",
       "      <th>Age</th>\n",
       "      <th>Education</th>\n",
       "      <th>ShelveLoc_Good</th>\n",
       "      <th>ShelveLoc_Medium</th>\n",
       "      <th>Urban_Yes</th>\n",
       "      <th>US_Yes</th>\n",
       "    </tr>\n",
       "  </thead>\n",
       "  <tbody>\n",
       "    <tr>\n",
       "      <th>0</th>\n",
       "      <td>9.50</td>\n",
       "      <td>138</td>\n",
       "      <td>73</td>\n",
       "      <td>11</td>\n",
       "      <td>276</td>\n",
       "      <td>120</td>\n",
       "      <td>42</td>\n",
       "      <td>17</td>\n",
       "      <td>0</td>\n",
       "      <td>0</td>\n",
       "      <td>1</td>\n",
       "      <td>1</td>\n",
       "    </tr>\n",
       "    <tr>\n",
       "      <th>1</th>\n",
       "      <td>11.22</td>\n",
       "      <td>111</td>\n",
       "      <td>48</td>\n",
       "      <td>16</td>\n",
       "      <td>260</td>\n",
       "      <td>83</td>\n",
       "      <td>65</td>\n",
       "      <td>10</td>\n",
       "      <td>1</td>\n",
       "      <td>0</td>\n",
       "      <td>1</td>\n",
       "      <td>1</td>\n",
       "    </tr>\n",
       "    <tr>\n",
       "      <th>2</th>\n",
       "      <td>10.06</td>\n",
       "      <td>113</td>\n",
       "      <td>35</td>\n",
       "      <td>10</td>\n",
       "      <td>269</td>\n",
       "      <td>80</td>\n",
       "      <td>59</td>\n",
       "      <td>12</td>\n",
       "      <td>0</td>\n",
       "      <td>1</td>\n",
       "      <td>1</td>\n",
       "      <td>1</td>\n",
       "    </tr>\n",
       "    <tr>\n",
       "      <th>3</th>\n",
       "      <td>7.40</td>\n",
       "      <td>117</td>\n",
       "      <td>100</td>\n",
       "      <td>4</td>\n",
       "      <td>466</td>\n",
       "      <td>97</td>\n",
       "      <td>55</td>\n",
       "      <td>14</td>\n",
       "      <td>0</td>\n",
       "      <td>1</td>\n",
       "      <td>1</td>\n",
       "      <td>1</td>\n",
       "    </tr>\n",
       "    <tr>\n",
       "      <th>4</th>\n",
       "      <td>4.15</td>\n",
       "      <td>141</td>\n",
       "      <td>64</td>\n",
       "      <td>3</td>\n",
       "      <td>340</td>\n",
       "      <td>128</td>\n",
       "      <td>38</td>\n",
       "      <td>13</td>\n",
       "      <td>0</td>\n",
       "      <td>0</td>\n",
       "      <td>1</td>\n",
       "      <td>0</td>\n",
       "    </tr>\n",
       "  </tbody>\n",
       "</table>\n",
       "</div>"
      ],
      "text/plain": [
       "   Sales  CompPrice  Income  Advertising  Population  Price  Age  Education  \\\n",
       "0   9.50        138      73           11         276    120   42         17   \n",
       "1  11.22        111      48           16         260     83   65         10   \n",
       "2  10.06        113      35           10         269     80   59         12   \n",
       "3   7.40        117     100            4         466     97   55         14   \n",
       "4   4.15        141      64            3         340    128   38         13   \n",
       "\n",
       "   ShelveLoc_Good  ShelveLoc_Medium  Urban_Yes  US_Yes  \n",
       "0               0                 0          1       1  \n",
       "1               1                 0          1       1  \n",
       "2               0                 1          1       1  \n",
       "3               0                 1          1       1  \n",
       "4               0                 0          1       0  "
      ]
     },
     "execution_count": 6,
     "metadata": {},
     "output_type": "execute_result"
    }
   ],
   "source": [
    "df_dummy.head()"
   ]
  },
  {
   "cell_type": "markdown",
   "metadata": {},
   "source": [
    "### Boxplots\n",
    "#### Sales and ShelveLoc"
   ]
  },
  {
   "cell_type": "code",
   "execution_count": 7,
   "metadata": {
    "scrolled": true
   },
   "outputs": [
    {
     "data": {
      "text/plain": [
       "<AxesSubplot:xlabel='ShelveLoc', ylabel='Sales'>"
      ]
     },
     "execution_count": 7,
     "metadata": {},
     "output_type": "execute_result"
    },
    {
     "data": {
      "image/png": "[encoded data removed]",
      "text/plain": [
       "<Figure size 432x288 with 1 Axes>"
      ]
     },
     "metadata": {
      "needs_background": "light"
     },
     "output_type": "display_data"
    }
   ],
   "source": [
    "sns.boxplot(x='ShelveLoc' ,y='Sales' ,data=df)"
   ]
  },
  {
   "cell_type": "markdown",
   "metadata": {},
   "source": [
    "#### Sales and Urban"
   ]
  },
  {
   "cell_type": "code",
   "execution_count": 8,
   "metadata": {},
   "outputs": [
    {
     "data": {
      "text/plain": [
       "<AxesSubplot:xlabel='Urban', ylabel='Sales'>"
      ]
     },
     "execution_count": 8,
     "metadata": {},
     "output_type": "execute_result"
    },
    {
     "data": {
      "image/png": "[encoded data removed]",
      "text/plain": [
       "<Figure size 432x288 with 1 Axes>"
      ]
     },
     "metadata": {
      "needs_background": "light"
     },
     "output_type": "display_data"
    }
   ],
   "source": [
    "sns.boxplot(y='Sales' ,x='Urban' ,data=df)"
   ]
  },
  {
   "cell_type": "markdown",
   "metadata": {},
   "source": [
    "#### Sales and US"
   ]
  },
  {
   "cell_type": "code",
   "execution_count": 9,
   "metadata": {},
   "outputs": [
    {
     "data": {
      "text/plain": [
       "<AxesSubplot:xlabel='US', ylabel='Sales'>"
      ]
     },
     "execution_count": 9,
     "metadata": {},
     "output_type": "execute_result"
    },
    {
     "data": {
      "image/png": "[encoded data removed]",
      "text/plain": [
       "<Figure size 432x288 with 1 Axes>"
      ]
     },
     "metadata": {
      "needs_background": "light"
     },
     "output_type": "display_data"
    }
   ],
   "source": [
    "sns.boxplot(x='US' ,y='Sales' ,data=df)"
   ]
  },
  {
   "cell_type": "markdown",
   "metadata": {},
   "source": [
    "### Correlating the quantitative variabls :"
   ]
  },
  {
   "cell_type": "code",
   "execution_count": 10,
   "metadata": {},
   "outputs": [
    {
     "name": "stdout",
     "output_type": "stream",
     "text": [
      "                Sales  CompPrice    Income  Advertising  Population     Price  \\\n",
      "Sales        1.000000   0.064079  0.151951     0.269507    0.050471 -0.444951   \n",
      "CompPrice    0.064079   1.000000 -0.080653    -0.024199   -0.094707  0.584848   \n",
      "Income       0.151951  -0.080653  1.000000     0.058995   -0.007877 -0.056698   \n",
      "Advertising  0.269507  -0.024199  0.058995     1.000000    0.265652  0.044537   \n",
      "Population   0.050471  -0.094707 -0.007877     0.265652    1.000000 -0.012144   \n",
      "Price       -0.444951   0.584848 -0.056698     0.044537   -0.012144  1.000000   \n",
      "Age         -0.231815  -0.100239 -0.004670    -0.004557   -0.042663 -0.102177   \n",
      "Education   -0.051955   0.025197 -0.056855    -0.033594   -0.106378  0.011747   \n",
      "\n",
      "                  Age  Education  \n",
      "Sales       -0.231815  -0.051955  \n",
      "CompPrice   -0.100239   0.025197  \n",
      "Income      -0.004670  -0.056855  \n",
      "Advertising -0.004557  -0.033594  \n",
      "Population  -0.042663  -0.106378  \n",
      "Price       -0.102177   0.011747  \n",
      "Age          1.000000   0.006488  \n",
      "Education    0.006488   1.000000  \n"
     ]
    }
   ],
   "source": [
    "correlation_matrix = df.corr()\n",
    "print(correlation_matrix)"
   ]
  },
  {
   "cell_type": "markdown",
   "metadata": {},
   "source": [
    "As compared to other variables, `Sales` have lowest correlation with `Population` followed by `Education` and `CompPrice`.\n"
   ]
  },
  {
   "cell_type": "markdown",
   "metadata": {},
   "source": [
    "### Transforming variables"
   ]
  },
  {
   "cell_type": "markdown",
   "metadata": {},
   "source": [
    "##### 1. `Population`"
   ]
  },
  {
   "cell_type": "code",
   "execution_count": 11,
   "metadata": {},
   "outputs": [
    {
     "data": {
      "text/plain": [
       "Text(0.5, 1.0, 'Sales & Population')"
      ]
     },
     "execution_count": 11,
     "metadata": {},
     "output_type": "execute_result"
    },
    {
     "data": {
      "image/png": "[encoded data removed]",
      "text/plain": [
       "<Figure size 432x288 with 1 Axes>"
      ]
     },
     "metadata": {
      "needs_background": "light"
     },
     "output_type": "display_data"
    }
   ],
   "source": [
    "plt.plot(df['Sales'],df['Population'] , 'o', color='black');\n",
    "plt.xlabel('Sales')\n",
    "plt.ylabel('Population')\n",
    "plt.title('Sales & Population')\n"
   ]
  },
  {
   "cell_type": "code",
   "execution_count": 12,
   "metadata": {
    "scrolled": false
   },
   "outputs": [
    {
     "name": "stderr",
     "output_type": "stream",
     "text": [
      "D:\\anaconda3\\lib\\site-packages\\seaborn\\distributions.py:2551: FutureWarning: `distplot` is a deprecated function and will be removed in a future version. Please adapt your code to use either `displot` (a figure-level function with similar flexibility) or `histplot` (an axes-level function for histograms).\n",
      "  warnings.warn(msg, FutureWarning)\n"
     ]
    },
    {
     "data": {
      "text/plain": [
       "Text(0.5, 1.0, 'Distribution of Population')"
      ]
     },
     "execution_count": 12,
     "metadata": {},
     "output_type": "execute_result"
    },
    {
     "data": {
      "image/png": "[encoded data removed]",
      "text/plain": [
       "<Figure size 432x288 with 1 Axes>"
      ]
     },
     "metadata": {
      "needs_background": "light"
     },
     "output_type": "display_data"
    }
   ],
   "source": [
    "sns.distplot(df['Population'],kde=True).set_title('Distribution of Population')"
   ]
  },
  {
   "cell_type": "markdown",
   "metadata": {},
   "source": [
    " - Square Transformation:"
   ]
  },
  {
   "cell_type": "code",
   "execution_count": 13,
   "metadata": {},
   "outputs": [
    {
     "name": "stdout",
     "output_type": "stream",
     "text": [
      "[[1.         0.04163059]\n",
      " [0.04163059 1.        ]]\n"
     ]
    }
   ],
   "source": [
    "Pop = df['Population']*df['Population']\n",
    "r2 = np.corrcoef(df['Sales'], Pop)\n",
    "print(r2)"
   ]
  },
  {
   "cell_type": "markdown",
   "metadata": {},
   "source": [
    " - Inverse Transformation"
   ]
  },
  {
   "cell_type": "code",
   "execution_count": 14,
   "metadata": {},
   "outputs": [
    {
     "name": "stdout",
     "output_type": "stream",
     "text": [
      "[[1.         0.04163059]\n",
      " [0.04163059 1.        ]]\n"
     ]
    }
   ],
   "source": [
    "Pop_inv = 1/df['Population']\n",
    "r4 = np.corrcoef(df['Sales'], Pop)\n",
    "print(r4)"
   ]
  },
  {
   "cell_type": "markdown",
   "metadata": {},
   "source": [
    "##### There is no change in the correlation between `Sales` and `Population` even after performing Square and Inverse transformation.\n",
    "\n",
    "But from the business pont of view, `Sales` is an important variable. "
   ]
  },
  {
   "cell_type": "markdown",
   "metadata": {},
   "source": [
    "##### 2. `ComPprice`"
   ]
  },
  {
   "cell_type": "code",
   "execution_count": 15,
   "metadata": {},
   "outputs": [
    {
     "data": {
      "text/plain": [
       "Text(0.5, 1.0, 'Sales & CompPrice')"
      ]
     },
     "execution_count": 15,
     "metadata": {},
     "output_type": "execute_result"
    },
    {
     "data": {
      "image/png": "[encoded data removed]",
      "text/plain": [
       "<Figure size 432x288 with 1 Axes>"
      ]
     },
     "metadata": {
      "needs_background": "light"
     },
     "output_type": "display_data"
    }
   ],
   "source": [
    "plt.plot(df['Sales'],df['CompPrice'] , 'o', color='black');\n",
    "plt.xlabel('Sales')\n",
    "plt.ylabel('CompPrice')\n",
    "plt.title('Sales & CompPrice')\n"
   ]
  },
  {
   "cell_type": "code",
   "execution_count": 16,
   "metadata": {},
   "outputs": [
    {
     "name": "stderr",
     "output_type": "stream",
     "text": [
      "D:\\anaconda3\\lib\\site-packages\\seaborn\\distributions.py:2551: FutureWarning: `distplot` is a deprecated function and will be removed in a future version. Please adapt your code to use either `displot` (a figure-level function with similar flexibility) or `histplot` (an axes-level function for histograms).\n",
      "  warnings.warn(msg, FutureWarning)\n"
     ]
    },
    {
     "data": {
      "text/plain": [
       "Text(0.5, 1.0, 'Distribution of CompPrice')"
      ]
     },
     "execution_count": 16,
     "metadata": {},
     "output_type": "execute_result"
    },
    {
     "data": {
      "image/png": "[encoded data removed]",
      "text/plain": [
       "<Figure size 432x288 with 1 Axes>"
      ]
     },
     "metadata": {
      "needs_background": "light"
     },
     "output_type": "display_data"
    }
   ],
   "source": [
    "sns.distplot(df['CompPrice'],kde=True).set_title('Distribution of CompPrice')"
   ]
  },
  {
   "cell_type": "markdown",
   "metadata": {},
   "source": [
    " - Square Transformation:"
   ]
  },
  {
   "cell_type": "code",
   "execution_count": 17,
   "metadata": {},
   "outputs": [
    {
     "name": "stdout",
     "output_type": "stream",
     "text": [
      "[[1.         0.06988937]\n",
      " [0.06988937 1.        ]]\n"
     ]
    }
   ],
   "source": [
    "comp = df['CompPrice']*df['CompPrice']\n",
    "r2 = np.corrcoef(df['Sales'], comp)\n",
    "print(r2)"
   ]
  },
  {
   "cell_type": "markdown",
   "metadata": {},
   "source": [
    " - Inverse Transformation"
   ]
  },
  {
   "cell_type": "code",
   "execution_count": 18,
   "metadata": {},
   "outputs": [
    {
     "name": "stdout",
     "output_type": "stream",
     "text": [
      "[[ 1.         -0.04886374]\n",
      " [-0.04886374  1.        ]]\n"
     ]
    }
   ],
   "source": [
    "comp_inv = 1/df['CompPrice']\n",
    "r4 = np.corrcoef(df['Sales'], comp_inv)\n",
    "print(r4)"
   ]
  },
  {
   "cell_type": "markdown",
   "metadata": {},
   "source": [
    "There is no change in the correlation between `Sales` and `CompPrice` even after performing Square and Inverse transformation. \n",
    "But from the business point of view, `CompPrice` is an important variable.\n",
    "    "
   ]
  },
  {
   "cell_type": "markdown",
   "metadata": {},
   "source": [
    "##### 5. `Education`"
   ]
  },
  {
   "cell_type": "code",
   "execution_count": 19,
   "metadata": {},
   "outputs": [
    {
     "data": {
      "text/plain": [
       "17    49\n",
       "12    49\n",
       "11    48\n",
       "10    48\n",
       "16    47\n",
       "13    43\n",
       "18    40\n",
       "14    40\n",
       "15    36\n",
       "Name: Education, dtype: int64"
      ]
     },
     "execution_count": 19,
     "metadata": {},
     "output_type": "execute_result"
    }
   ],
   "source": [
    "df.Education.value_counts()"
   ]
  },
  {
   "cell_type": "markdown",
   "metadata": {},
   "source": [
    "Education is ordinal variable with values ranging from 10 to 18.  \n",
    "\n",
    "ANOVA test should be used to check the correlation between `Education` and `Sales`."
   ]
  },
  {
   "cell_type": "code",
   "execution_count": 20,
   "metadata": {},
   "outputs": [
    {
     "data": {
      "text/plain": [
       "Text(0.5, 1.0, 'Sales and Edication')"
      ]
     },
     "execution_count": 20,
     "metadata": {},
     "output_type": "execute_result"
    },
    {
     "data": {
      "image/png": "[encoded data removed]",
      "text/plain": [
       "<Figure size 432x288 with 1 Axes>"
      ]
     },
     "metadata": {
      "needs_background": "light"
     },
     "output_type": "display_data"
    }
   ],
   "source": [
    "sns.boxplot(x='Education' ,y='Sales' ,data=df).set_title(\"Sales and Edication\")"
   ]
  },
  {
   "cell_type": "code",
   "execution_count": 21,
   "metadata": {},
   "outputs": [
    {
     "data": {
      "text/html": [
       "<div>\n",
       "<style scoped>\n",
       "    .dataframe tbody tr th:only-of-type {\n",
       "        vertical-align: middle;\n",
       "    }\n",
       "\n",
       "    .dataframe tbody tr th {\n",
       "        vertical-align: top;\n",
       "    }\n",
       "\n",
       "    .dataframe thead th {\n",
       "        text-align: right;\n",
       "    }\n",
       "</style>\n",
       "<table border=\"1\" class=\"dataframe\">\n",
       "  <thead>\n",
       "    <tr style=\"text-align: right;\">\n",
       "      <th></th>\n",
       "      <th>sum_sq</th>\n",
       "      <th>df</th>\n",
       "      <th>F</th>\n",
       "      <th>PR(&gt;F)</th>\n",
       "    </tr>\n",
       "  </thead>\n",
       "  <tbody>\n",
       "    <tr>\n",
       "      <th>C(Sal)</th>\n",
       "      <td>2276.916667</td>\n",
       "      <td>335.0</td>\n",
       "      <td>0.939341</td>\n",
       "      <td>0.644242</td>\n",
       "    </tr>\n",
       "    <tr>\n",
       "      <th>Residual</th>\n",
       "      <td>463.083333</td>\n",
       "      <td>64.0</td>\n",
       "      <td>NaN</td>\n",
       "      <td>NaN</td>\n",
       "    </tr>\n",
       "  </tbody>\n",
       "</table>\n",
       "</div>"
      ],
      "text/plain": [
       "               sum_sq     df         F    PR(>F)\n",
       "C(Sal)    2276.916667  335.0  0.939341  0.644242\n",
       "Residual   463.083333   64.0       NaN       NaN"
      ]
     },
     "execution_count": 21,
     "metadata": {},
     "output_type": "execute_result"
    }
   ],
   "source": [
    "Edu = df['Education']\n",
    "Sal = df['Sales']\n",
    "model = ols('Edu ~ C(Sal)', data=df).fit()\n",
    "aov_table = sm.stats.anova_lm(model, typ=2)\n",
    "aov_table"
   ]
  },
  {
   "cell_type": "markdown",
   "metadata": {},
   "source": [
    "As the p value derieved is more than significance level, it can be stated that there is no significant association between `Sales` and `Education`. "
   ]
  },
  {
   "cell_type": "code",
   "execution_count": 22,
   "metadata": {},
   "outputs": [
    {
     "data": {
      "image/png": "[encoded data removed]",
      "text/plain": [
       "<Figure size 1080x576 with 2 Axes>"
      ]
     },
     "metadata": {
      "needs_background": "light"
     },
     "output_type": "display_data"
    }
   ],
   "source": [
    "plt.figure(figsize=(15,8))\n",
    "sns.heatmap(df_dummy.corr(),annot=True)\n",
    "plt.show()"
   ]
  },
  {
   "cell_type": "code",
   "execution_count": 23,
   "metadata": {},
   "outputs": [
    {
     "data": {
      "text/html": [
       "<div>\n",
       "<style scoped>\n",
       "    .dataframe tbody tr th:only-of-type {\n",
       "        vertical-align: middle;\n",
       "    }\n",
       "\n",
       "    .dataframe tbody tr th {\n",
       "        vertical-align: top;\n",
       "    }\n",
       "\n",
       "    .dataframe thead th {\n",
       "        text-align: right;\n",
       "    }\n",
       "</style>\n",
       "<table border=\"1\" class=\"dataframe\">\n",
       "  <thead>\n",
       "    <tr style=\"text-align: right;\">\n",
       "      <th></th>\n",
       "      <th>Sales</th>\n",
       "      <th>CompPrice</th>\n",
       "      <th>Income</th>\n",
       "      <th>Advertising</th>\n",
       "      <th>Population</th>\n",
       "      <th>Price</th>\n",
       "      <th>Age</th>\n",
       "      <th>Education</th>\n",
       "      <th>ShelveLoc_Good</th>\n",
       "      <th>ShelveLoc_Medium</th>\n",
       "      <th>Urban_Yes</th>\n",
       "      <th>US_Yes</th>\n",
       "    </tr>\n",
       "  </thead>\n",
       "  <tbody>\n",
       "    <tr>\n",
       "      <th>0</th>\n",
       "      <td>9.50</td>\n",
       "      <td>138</td>\n",
       "      <td>73</td>\n",
       "      <td>11</td>\n",
       "      <td>276</td>\n",
       "      <td>120</td>\n",
       "      <td>42</td>\n",
       "      <td>17</td>\n",
       "      <td>0</td>\n",
       "      <td>0</td>\n",
       "      <td>1</td>\n",
       "      <td>1</td>\n",
       "    </tr>\n",
       "    <tr>\n",
       "      <th>1</th>\n",
       "      <td>11.22</td>\n",
       "      <td>111</td>\n",
       "      <td>48</td>\n",
       "      <td>16</td>\n",
       "      <td>260</td>\n",
       "      <td>83</td>\n",
       "      <td>65</td>\n",
       "      <td>10</td>\n",
       "      <td>1</td>\n",
       "      <td>0</td>\n",
       "      <td>1</td>\n",
       "      <td>1</td>\n",
       "    </tr>\n",
       "    <tr>\n",
       "      <th>2</th>\n",
       "      <td>10.06</td>\n",
       "      <td>113</td>\n",
       "      <td>35</td>\n",
       "      <td>10</td>\n",
       "      <td>269</td>\n",
       "      <td>80</td>\n",
       "      <td>59</td>\n",
       "      <td>12</td>\n",
       "      <td>0</td>\n",
       "      <td>1</td>\n",
       "      <td>1</td>\n",
       "      <td>1</td>\n",
       "    </tr>\n",
       "    <tr>\n",
       "      <th>3</th>\n",
       "      <td>7.40</td>\n",
       "      <td>117</td>\n",
       "      <td>100</td>\n",
       "      <td>4</td>\n",
       "      <td>466</td>\n",
       "      <td>97</td>\n",
       "      <td>55</td>\n",
       "      <td>14</td>\n",
       "      <td>0</td>\n",
       "      <td>1</td>\n",
       "      <td>1</td>\n",
       "      <td>1</td>\n",
       "    </tr>\n",
       "    <tr>\n",
       "      <th>4</th>\n",
       "      <td>4.15</td>\n",
       "      <td>141</td>\n",
       "      <td>64</td>\n",
       "      <td>3</td>\n",
       "      <td>340</td>\n",
       "      <td>128</td>\n",
       "      <td>38</td>\n",
       "      <td>13</td>\n",
       "      <td>0</td>\n",
       "      <td>0</td>\n",
       "      <td>1</td>\n",
       "      <td>0</td>\n",
       "    </tr>\n",
       "  </tbody>\n",
       "</table>\n",
       "</div>"
      ],
      "text/plain": [
       "   Sales  CompPrice  Income  Advertising  Population  Price  Age  Education  \\\n",
       "0   9.50        138      73           11         276    120   42         17   \n",
       "1  11.22        111      48           16         260     83   65         10   \n",
       "2  10.06        113      35           10         269     80   59         12   \n",
       "3   7.40        117     100            4         466     97   55         14   \n",
       "4   4.15        141      64            3         340    128   38         13   \n",
       "\n",
       "   ShelveLoc_Good  ShelveLoc_Medium  Urban_Yes  US_Yes  \n",
       "0               0                 0          1       1  \n",
       "1               1                 0          1       1  \n",
       "2               0                 1          1       1  \n",
       "3               0                 1          1       1  \n",
       "4               0                 0          1       0  "
      ]
     },
     "execution_count": 23,
     "metadata": {},
     "output_type": "execute_result"
    }
   ],
   "source": [
    "df_dummy.head()"
   ]
  },
  {
   "cell_type": "markdown",
   "metadata": {},
   "source": [
    "#### We will use the whole data to perform basics of Exploratory Data Analysis and then use the data to build descriptive models."
   ]
  },
  {
   "cell_type": "markdown",
   "metadata": {},
   "source": [
    "##### Model using appropriate number of dummy variable levels."
   ]
  },
  {
   "cell_type": "code",
   "execution_count": 24,
   "metadata": {},
   "outputs": [],
   "source": [
    "formula_MLR_1 ='Sales~CompPrice+Income+Advertising+Population+Price+Age+Education+ShelveLoc_Good+ShelveLoc_Medium+Urban_Yes+US_Yes'"
   ]
  },
  {
   "cell_type": "code",
   "execution_count": 25,
   "metadata": {},
   "outputs": [
    {
     "data": {
      "text/html": [
       "<table class=\"simpletable\">\n",
       "<caption>OLS Regression Results</caption>\n",
       "<tr>\n",
       "  <th>Dep. Variable:</th>          <td>Sales</td>      <th>  R-squared:         </th> <td>   0.873</td> \n",
       "</tr>\n",
       "<tr>\n",
       "  <th>Model:</th>                   <td>OLS</td>       <th>  Adj. R-squared:    </th> <td>   0.870</td> \n",
       "</tr>\n",
       "<tr>\n",
       "  <th>Method:</th>             <td>Least Squares</td>  <th>  F-statistic:       </th> <td>   243.4</td> \n",
       "</tr>\n",
       "<tr>\n",
       "  <th>Date:</th>             <td>Sun, 27 Dec 2020</td> <th>  Prob (F-statistic):</th> <td>1.60e-166</td>\n",
       "</tr>\n",
       "<tr>\n",
       "  <th>Time:</th>                 <td>12:29:31</td>     <th>  Log-Likelihood:    </th> <td> -568.99</td> \n",
       "</tr>\n",
       "<tr>\n",
       "  <th>No. Observations:</th>      <td>   400</td>      <th>  AIC:               </th> <td>   1162.</td> \n",
       "</tr>\n",
       "<tr>\n",
       "  <th>Df Residuals:</th>          <td>   388</td>      <th>  BIC:               </th> <td>   1210.</td> \n",
       "</tr>\n",
       "<tr>\n",
       "  <th>Df Model:</th>              <td>    11</td>      <th>                     </th>     <td> </td>    \n",
       "</tr>\n",
       "<tr>\n",
       "  <th>Covariance Type:</th>      <td>nonrobust</td>    <th>                     </th>     <td> </td>    \n",
       "</tr>\n",
       "</table>\n",
       "<table class=\"simpletable\">\n",
       "<tr>\n",
       "          <td></td>            <th>coef</th>     <th>std err</th>      <th>t</th>      <th>P>|t|</th>  <th>[0.025</th>    <th>0.975]</th>  \n",
       "</tr>\n",
       "<tr>\n",
       "  <th>Intercept</th>        <td>    5.6606</td> <td>    0.603</td> <td>    9.380</td> <td> 0.000</td> <td>    4.474</td> <td>    6.847</td>\n",
       "</tr>\n",
       "<tr>\n",
       "  <th>CompPrice</th>        <td>    0.0928</td> <td>    0.004</td> <td>   22.378</td> <td> 0.000</td> <td>    0.085</td> <td>    0.101</td>\n",
       "</tr>\n",
       "<tr>\n",
       "  <th>Income</th>           <td>    0.0158</td> <td>    0.002</td> <td>    8.565</td> <td> 0.000</td> <td>    0.012</td> <td>    0.019</td>\n",
       "</tr>\n",
       "<tr>\n",
       "  <th>Advertising</th>      <td>    0.1231</td> <td>    0.011</td> <td>   11.066</td> <td> 0.000</td> <td>    0.101</td> <td>    0.145</td>\n",
       "</tr>\n",
       "<tr>\n",
       "  <th>Population</th>       <td>    0.0002</td> <td>    0.000</td> <td>    0.561</td> <td> 0.575</td> <td>   -0.001</td> <td>    0.001</td>\n",
       "</tr>\n",
       "<tr>\n",
       "  <th>Price</th>            <td>   -0.0954</td> <td>    0.003</td> <td>  -35.700</td> <td> 0.000</td> <td>   -0.101</td> <td>   -0.090</td>\n",
       "</tr>\n",
       "<tr>\n",
       "  <th>Age</th>              <td>   -0.0460</td> <td>    0.003</td> <td>  -14.472</td> <td> 0.000</td> <td>   -0.052</td> <td>   -0.040</td>\n",
       "</tr>\n",
       "<tr>\n",
       "  <th>Education</th>        <td>   -0.0211</td> <td>    0.020</td> <td>   -1.070</td> <td> 0.285</td> <td>   -0.060</td> <td>    0.018</td>\n",
       "</tr>\n",
       "<tr>\n",
       "  <th>ShelveLoc_Good</th>   <td>    4.8502</td> <td>    0.153</td> <td>   31.678</td> <td> 0.000</td> <td>    4.549</td> <td>    5.151</td>\n",
       "</tr>\n",
       "<tr>\n",
       "  <th>ShelveLoc_Medium</th> <td>    1.9567</td> <td>    0.126</td> <td>   15.516</td> <td> 0.000</td> <td>    1.709</td> <td>    2.205</td>\n",
       "</tr>\n",
       "<tr>\n",
       "  <th>Urban_Yes</th>        <td>    0.1229</td> <td>    0.113</td> <td>    1.088</td> <td> 0.277</td> <td>   -0.099</td> <td>    0.345</td>\n",
       "</tr>\n",
       "<tr>\n",
       "  <th>US_Yes</th>           <td>   -0.1841</td> <td>    0.150</td> <td>   -1.229</td> <td> 0.220</td> <td>   -0.479</td> <td>    0.111</td>\n",
       "</tr>\n",
       "</table>\n",
       "<table class=\"simpletable\">\n",
       "<tr>\n",
       "  <th>Omnibus:</th>       <td> 0.811</td> <th>  Durbin-Watson:     </th> <td>   2.013</td>\n",
       "</tr>\n",
       "<tr>\n",
       "  <th>Prob(Omnibus):</th> <td> 0.667</td> <th>  Jarque-Bera (JB):  </th> <td>   0.765</td>\n",
       "</tr>\n",
       "<tr>\n",
       "  <th>Skew:</th>          <td> 0.107</td> <th>  Prob(JB):          </th> <td>   0.682</td>\n",
       "</tr>\n",
       "<tr>\n",
       "  <th>Kurtosis:</th>      <td> 2.994</td> <th>  Cond. No.          </th> <td>4.15e+03</td>\n",
       "</tr>\n",
       "</table><br/><br/>Notes:<br/>[1] Standard Errors assume that the covariance matrix of the errors is correctly specified.<br/>[2] The condition number is large, 4.15e+03. This might indicate that there are<br/>strong multicollinearity or other numerical problems."
      ],
      "text/plain": [
       "<class 'statsmodels.iolib.summary.Summary'>\n",
       "\"\"\"\n",
       "                            OLS Regression Results                            \n",
       "==============================================================================\n",
       "Dep. Variable:                  Sales   R-squared:                       0.873\n",
       "Model:                            OLS   Adj. R-squared:                  0.870\n",
       "Method:                 Least Squares   F-statistic:                     243.4\n",
       "Date:                Sun, 27 Dec 2020   Prob (F-statistic):          1.60e-166\n",
       "Time:                        12:29:31   Log-Likelihood:                -568.99\n",
       "No. Observations:                 400   AIC:                             1162.\n",
       "Df Residuals:                     388   BIC:                             1210.\n",
       "Df Model:                          11                                         \n",
       "Covariance Type:            nonrobust                                         \n",
       "====================================================================================\n",
       "                       coef    std err          t      P>|t|      [0.025      0.975]\n",
       "------------------------------------------------------------------------------------\n",
       "Intercept            5.6606      0.603      9.380      0.000       4.474       6.847\n",
       "CompPrice            0.0928      0.004     22.378      0.000       0.085       0.101\n",
       "Income               0.0158      0.002      8.565      0.000       0.012       0.019\n",
       "Advertising          0.1231      0.011     11.066      0.000       0.101       0.145\n",
       "Population           0.0002      0.000      0.561      0.575      -0.001       0.001\n",
       "Price               -0.0954      0.003    -35.700      0.000      -0.101      -0.090\n",
       "Age                 -0.0460      0.003    -14.472      0.000      -0.052      -0.040\n",
       "Education           -0.0211      0.020     -1.070      0.285      -0.060       0.018\n",
       "ShelveLoc_Good       4.8502      0.153     31.678      0.000       4.549       5.151\n",
       "ShelveLoc_Medium     1.9567      0.126     15.516      0.000       1.709       2.205\n",
       "Urban_Yes            0.1229      0.113      1.088      0.277      -0.099       0.345\n",
       "US_Yes              -0.1841      0.150     -1.229      0.220      -0.479       0.111\n",
       "==============================================================================\n",
       "Omnibus:                        0.811   Durbin-Watson:                   2.013\n",
       "Prob(Omnibus):                  0.667   Jarque-Bera (JB):                0.765\n",
       "Skew:                           0.107   Prob(JB):                        0.682\n",
       "Kurtosis:                       2.994   Cond. No.                     4.15e+03\n",
       "==============================================================================\n",
       "\n",
       "Notes:\n",
       "[1] Standard Errors assume that the covariance matrix of the errors is correctly specified.\n",
       "[2] The condition number is large, 4.15e+03. This might indicate that there are\n",
       "strong multicollinearity or other numerical problems.\n",
       "\"\"\""
      ]
     },
     "execution_count": 25,
     "metadata": {},
     "output_type": "execute_result"
    }
   ],
   "source": [
    "model_MLR_1 = SM.ols(formula=formula_MLR_1,data=df_dummy).fit()\n",
    "model_MLR_1.summary()"
   ]
  },
  {
   "cell_type": "markdown",
   "metadata": {},
   "source": [
    "We notice that the p-value for the t-statistic calculation for the `Population` variable is the highest (higher than 0.05).\n",
    "\n",
    "For the $\\underline{t-statistic}$ for every co-efficient of the Linear Regression the null and alternate Hypothesis is as follows:\n",
    "\n",
    "${H_0}$ : The variable is significant. \n",
    "\n",
    "${H_1}$: The variable is not significant. \n",
    "\n",
    "Lower the p-value for the t-statistic more significant are the variables."
   ]
  },
  {
   "cell_type": "markdown",
   "metadata": {},
   "source": [
    "##### Model without the 'Population' variable"
   ]
  },
  {
   "cell_type": "code",
   "execution_count": 26,
   "metadata": {},
   "outputs": [],
   "source": [
    "formula_MLR_2 = 'Sales~CompPrice+Income+Advertising+Price+Age+Education+ShelveLoc_Good+ShelveLoc_Medium+Urban_Yes+US_Yes'"
   ]
  },
  {
   "cell_type": "code",
   "execution_count": 27,
   "metadata": {},
   "outputs": [
    {
     "data": {
      "text/html": [
       "<table class=\"simpletable\">\n",
       "<caption>OLS Regression Results</caption>\n",
       "<tr>\n",
       "  <th>Dep. Variable:</th>          <td>Sales</td>      <th>  R-squared:         </th> <td>   0.873</td> \n",
       "</tr>\n",
       "<tr>\n",
       "  <th>Model:</th>                   <td>OLS</td>       <th>  Adj. R-squared:    </th> <td>   0.870</td> \n",
       "</tr>\n",
       "<tr>\n",
       "  <th>Method:</th>             <td>Least Squares</td>  <th>  F-statistic:       </th> <td>   268.2</td> \n",
       "</tr>\n",
       "<tr>\n",
       "  <th>Date:</th>             <td>Sun, 27 Dec 2020</td> <th>  Prob (F-statistic):</th> <td>1.11e-167</td>\n",
       "</tr>\n",
       "<tr>\n",
       "  <th>Time:</th>                 <td>12:29:31</td>     <th>  Log-Likelihood:    </th> <td> -569.15</td> \n",
       "</tr>\n",
       "<tr>\n",
       "  <th>No. Observations:</th>      <td>   400</td>      <th>  AIC:               </th> <td>   1160.</td> \n",
       "</tr>\n",
       "<tr>\n",
       "  <th>Df Residuals:</th>          <td>   389</td>      <th>  BIC:               </th> <td>   1204.</td> \n",
       "</tr>\n",
       "<tr>\n",
       "  <th>Df Model:</th>              <td>    10</td>      <th>                     </th>     <td> </td>    \n",
       "</tr>\n",
       "<tr>\n",
       "  <th>Covariance Type:</th>      <td>nonrobust</td>    <th>                     </th>     <td> </td>    \n",
       "</tr>\n",
       "</table>\n",
       "<table class=\"simpletable\">\n",
       "<tr>\n",
       "          <td></td>            <th>coef</th>     <th>std err</th>      <th>t</th>      <th>P>|t|</th>  <th>[0.025</th>    <th>0.975]</th>  \n",
       "</tr>\n",
       "<tr>\n",
       "  <th>Intercept</th>        <td>    5.7619</td> <td>    0.575</td> <td>   10.015</td> <td> 0.000</td> <td>    4.631</td> <td>    6.893</td>\n",
       "</tr>\n",
       "<tr>\n",
       "  <th>CompPrice</th>        <td>    0.0926</td> <td>    0.004</td> <td>   22.436</td> <td> 0.000</td> <td>    0.084</td> <td>    0.101</td>\n",
       "</tr>\n",
       "<tr>\n",
       "  <th>Income</th>           <td>    0.0158</td> <td>    0.002</td> <td>    8.560</td> <td> 0.000</td> <td>    0.012</td> <td>    0.019</td>\n",
       "</tr>\n",
       "<tr>\n",
       "  <th>Advertising</th>      <td>    0.1250</td> <td>    0.011</td> <td>   11.844</td> <td> 0.000</td> <td>    0.104</td> <td>    0.146</td>\n",
       "</tr>\n",
       "<tr>\n",
       "  <th>Price</th>            <td>   -0.0953</td> <td>    0.003</td> <td>  -35.736</td> <td> 0.000</td> <td>   -0.101</td> <td>   -0.090</td>\n",
       "</tr>\n",
       "<tr>\n",
       "  <th>Age</th>              <td>   -0.0461</td> <td>    0.003</td> <td>  -14.520</td> <td> 0.000</td> <td>   -0.052</td> <td>   -0.040</td>\n",
       "</tr>\n",
       "<tr>\n",
       "  <th>Education</th>        <td>   -0.0224</td> <td>    0.020</td> <td>   -1.145</td> <td> 0.253</td> <td>   -0.061</td> <td>    0.016</td>\n",
       "</tr>\n",
       "<tr>\n",
       "  <th>ShelveLoc_Good</th>   <td>    4.8467</td> <td>    0.153</td> <td>   31.709</td> <td> 0.000</td> <td>    4.546</td> <td>    5.147</td>\n",
       "</tr>\n",
       "<tr>\n",
       "  <th>ShelveLoc_Medium</th> <td>    1.9521</td> <td>    0.126</td> <td>   15.526</td> <td> 0.000</td> <td>    1.705</td> <td>    2.199</td>\n",
       "</tr>\n",
       "<tr>\n",
       "  <th>Urban_Yes</th>        <td>    0.1189</td> <td>    0.113</td> <td>    1.055</td> <td> 0.292</td> <td>   -0.103</td> <td>    0.340</td>\n",
       "</tr>\n",
       "<tr>\n",
       "  <th>US_Yes</th>           <td>   -0.1991</td> <td>    0.147</td> <td>   -1.351</td> <td> 0.177</td> <td>   -0.489</td> <td>    0.091</td>\n",
       "</tr>\n",
       "</table>\n",
       "<table class=\"simpletable\">\n",
       "<tr>\n",
       "  <th>Omnibus:</th>       <td> 0.899</td> <th>  Durbin-Watson:     </th> <td>   2.016</td>\n",
       "</tr>\n",
       "<tr>\n",
       "  <th>Prob(Omnibus):</th> <td> 0.638</td> <th>  Jarque-Bera (JB):  </th> <td>   0.826</td>\n",
       "</tr>\n",
       "<tr>\n",
       "  <th>Skew:</th>          <td> 0.111</td> <th>  Prob(JB):          </th> <td>   0.662</td>\n",
       "</tr>\n",
       "<tr>\n",
       "  <th>Kurtosis:</th>      <td> 3.012</td> <th>  Cond. No.          </th> <td>2.19e+03</td>\n",
       "</tr>\n",
       "</table><br/><br/>Notes:<br/>[1] Standard Errors assume that the covariance matrix of the errors is correctly specified.<br/>[2] The condition number is large, 2.19e+03. This might indicate that there are<br/>strong multicollinearity or other numerical problems."
      ],
      "text/plain": [
       "<class 'statsmodels.iolib.summary.Summary'>\n",
       "\"\"\"\n",
       "                            OLS Regression Results                            \n",
       "==============================================================================\n",
       "Dep. Variable:                  Sales   R-squared:                       0.873\n",
       "Model:                            OLS   Adj. R-squared:                  0.870\n",
       "Method:                 Least Squares   F-statistic:                     268.2\n",
       "Date:                Sun, 27 Dec 2020   Prob (F-statistic):          1.11e-167\n",
       "Time:                        12:29:31   Log-Likelihood:                -569.15\n",
       "No. Observations:                 400   AIC:                             1160.\n",
       "Df Residuals:                     389   BIC:                             1204.\n",
       "Df Model:                          10                                         \n",
       "Covariance Type:            nonrobust                                         \n",
       "====================================================================================\n",
       "                       coef    std err          t      P>|t|      [0.025      0.975]\n",
       "------------------------------------------------------------------------------------\n",
       "Intercept            5.7619      0.575     10.015      0.000       4.631       6.893\n",
       "CompPrice            0.0926      0.004     22.436      0.000       0.084       0.101\n",
       "Income               0.0158      0.002      8.560      0.000       0.012       0.019\n",
       "Advertising          0.1250      0.011     11.844      0.000       0.104       0.146\n",
       "Price               -0.0953      0.003    -35.736      0.000      -0.101      -0.090\n",
       "Age                 -0.0461      0.003    -14.520      0.000      -0.052      -0.040\n",
       "Education           -0.0224      0.020     -1.145      0.253      -0.061       0.016\n",
       "ShelveLoc_Good       4.8467      0.153     31.709      0.000       4.546       5.147\n",
       "ShelveLoc_Medium     1.9521      0.126     15.526      0.000       1.705       2.199\n",
       "Urban_Yes            0.1189      0.113      1.055      0.292      -0.103       0.340\n",
       "US_Yes              -0.1991      0.147     -1.351      0.177      -0.489       0.091\n",
       "==============================================================================\n",
       "Omnibus:                        0.899   Durbin-Watson:                   2.016\n",
       "Prob(Omnibus):                  0.638   Jarque-Bera (JB):                0.826\n",
       "Skew:                           0.111   Prob(JB):                        0.662\n",
       "Kurtosis:                       3.012   Cond. No.                     2.19e+03\n",
       "==============================================================================\n",
       "\n",
       "Notes:\n",
       "[1] Standard Errors assume that the covariance matrix of the errors is correctly specified.\n",
       "[2] The condition number is large, 2.19e+03. This might indicate that there are\n",
       "strong multicollinearity or other numerical problems.\n",
       "\"\"\""
      ]
     },
     "execution_count": 27,
     "metadata": {},
     "output_type": "execute_result"
    }
   ],
   "source": [
    "model_MLR_2 = SM.ols(formula=formula_MLR_2,data=df_dummy).fit()\n",
    "model_MLR_2.summary()"
   ]
  },
  {
   "cell_type": "markdown",
   "metadata": {},
   "source": [
    "There is almost no change in the ${R^2}$ values. \n",
    "\n",
    "\n",
    "While adding or subtracting variables from a regression model to refine the model, we need to be very careful about the Adjusted ${R^2}$ values. Adding any particular value which is not significant can increase the ${R^2}$ value but the Adjusted ${R^2}$ changes by the addition or the subtraction of significant variables. \n",
    "\n",
    "\n",
    "Let us check the $R^2$ and adjusted $R^2$ values for the $1^{st}$ and $2^{nd}$ Multiple Linear Regression Model."
   ]
  },
  {
   "cell_type": "code",
   "execution_count": 28,
   "metadata": {},
   "outputs": [
    {
     "name": "stdout",
     "output_type": "stream",
     "text": [
      "For the FIRST MLR model: \n",
      "\n",
      "Rsquared          0.8734133434127012\n",
      "Adjusted Rsquared 0.8698245464475973\n"
     ]
    }
   ],
   "source": [
    "print('For the FIRST MLR model:','\\n')\n",
    "\n",
    "print('Rsquared         ',model_MLR_1.rsquared)\n",
    "print('Adjusted Rsquared',model_MLR_1.rsquared_adj)"
   ]
  },
  {
   "cell_type": "code",
   "execution_count": 29,
   "metadata": {},
   "outputs": [
    {
     "name": "stdout",
     "output_type": "stream",
     "text": [
      "For the SECOND MLR model: \n",
      "\n",
      "Rsquared          0.8733106136278912\n",
      "Adjusted Rsquared 0.8700538170630555\n"
     ]
    }
   ],
   "source": [
    "print('For the SECOND MLR model:','\\n')\n",
    "\n",
    "print('Rsquared         ',model_MLR_2.rsquared)\n",
    "print('Adjusted Rsquared',model_MLR_2.rsquared_adj)"
   ]
  },
  {
   "cell_type": "markdown",
   "metadata": {},
   "source": [
    "This means that the particular information about the store being located in the US does not help us in predicting the 'Sales' as compared to the other information that we have."
   ]
  },
  {
   "cell_type": "markdown",
   "metadata": {},
   "source": [
    "Let us see what happens when we drop a statistically significant variable from the model.\n",
    "\n",
    "In this case,we will drop the `CompPrice` model."
   ]
  },
  {
   "cell_type": "code",
   "execution_count": 30,
   "metadata": {},
   "outputs": [],
   "source": [
    "formula_MLR_3 = 'Sales~Income+Advertising+Price+Age+Education+ShelveLoc_Good+ShelveLoc_Medium+Urban_Yes+US_Yes'"
   ]
  },
  {
   "cell_type": "code",
   "execution_count": 31,
   "metadata": {},
   "outputs": [],
   "source": [
    "model_MLR_3 = SM.ols(formula=formula_MLR_3,data=df_dummy).fit()"
   ]
  },
  {
   "cell_type": "code",
   "execution_count": 32,
   "metadata": {},
   "outputs": [
    {
     "data": {
      "text/html": [
       "<table class=\"simpletable\">\n",
       "<caption>OLS Regression Results</caption>\n",
       "<tr>\n",
       "  <th>Dep. Variable:</th>          <td>Sales</td>      <th>  R-squared:         </th> <td>   0.709</td>\n",
       "</tr>\n",
       "<tr>\n",
       "  <th>Model:</th>                   <td>OLS</td>       <th>  Adj. R-squared:    </th> <td>   0.703</td>\n",
       "</tr>\n",
       "<tr>\n",
       "  <th>Method:</th>             <td>Least Squares</td>  <th>  F-statistic:       </th> <td>   105.8</td>\n",
       "</tr>\n",
       "<tr>\n",
       "  <th>Date:</th>             <td>Sun, 27 Dec 2020</td> <th>  Prob (F-statistic):</th> <td>6.29e-99</td>\n",
       "</tr>\n",
       "<tr>\n",
       "  <th>Time:</th>                 <td>12:29:31</td>     <th>  Log-Likelihood:    </th> <td> -735.21</td>\n",
       "</tr>\n",
       "<tr>\n",
       "  <th>No. Observations:</th>      <td>   400</td>      <th>  AIC:               </th> <td>   1490.</td>\n",
       "</tr>\n",
       "<tr>\n",
       "  <th>Df Residuals:</th>          <td>   390</td>      <th>  BIC:               </th> <td>   1530.</td>\n",
       "</tr>\n",
       "<tr>\n",
       "  <th>Df Model:</th>              <td>     9</td>      <th>                     </th>     <td> </td>   \n",
       "</tr>\n",
       "<tr>\n",
       "  <th>Covariance Type:</th>      <td>nonrobust</td>    <th>                     </th>     <td> </td>   \n",
       "</tr>\n",
       "</table>\n",
       "<table class=\"simpletable\">\n",
       "<tr>\n",
       "          <td></td>            <th>coef</th>     <th>std err</th>      <th>t</th>      <th>P>|t|</th>  <th>[0.025</th>    <th>0.975]</th>  \n",
       "</tr>\n",
       "<tr>\n",
       "  <th>Intercept</th>        <td>   13.4510</td> <td>    0.699</td> <td>   19.243</td> <td> 0.000</td> <td>   12.077</td> <td>   14.825</td>\n",
       "</tr>\n",
       "<tr>\n",
       "  <th>Income</th>           <td>    0.0134</td> <td>    0.003</td> <td>    4.820</td> <td> 0.000</td> <td>    0.008</td> <td>    0.019</td>\n",
       "</tr>\n",
       "<tr>\n",
       "  <th>Advertising</th>      <td>    0.1087</td> <td>    0.016</td> <td>    6.821</td> <td> 0.000</td> <td>    0.077</td> <td>    0.140</td>\n",
       "</tr>\n",
       "<tr>\n",
       "  <th>Price</th>            <td>   -0.0608</td> <td>    0.003</td> <td>  -18.446</td> <td> 0.000</td> <td>   -0.067</td> <td>   -0.054</td>\n",
       "</tr>\n",
       "<tr>\n",
       "  <th>Age</th>              <td>   -0.0500</td> <td>    0.005</td> <td>  -10.432</td> <td> 0.000</td> <td>   -0.059</td> <td>   -0.041</td>\n",
       "</tr>\n",
       "<tr>\n",
       "  <th>Education</th>        <td>   -0.0125</td> <td>    0.030</td> <td>   -0.422</td> <td> 0.673</td> <td>   -0.071</td> <td>    0.046</td>\n",
       "</tr>\n",
       "<tr>\n",
       "  <th>ShelveLoc_Good</th>   <td>    4.9019</td> <td>    0.231</td> <td>   21.204</td> <td> 0.000</td> <td>    4.447</td> <td>    5.356</td>\n",
       "</tr>\n",
       "<tr>\n",
       "  <th>ShelveLoc_Medium</th> <td>    2.0223</td> <td>    0.190</td> <td>   10.636</td> <td> 0.000</td> <td>    1.648</td> <td>    2.396</td>\n",
       "</tr>\n",
       "<tr>\n",
       "  <th>Urban_Yes</th>        <td>    0.2621</td> <td>    0.170</td> <td>    1.540</td> <td> 0.124</td> <td>   -0.072</td> <td>    0.597</td>\n",
       "</tr>\n",
       "<tr>\n",
       "  <th>US_Yes</th>           <td>   -0.0800</td> <td>    0.223</td> <td>   -0.359</td> <td> 0.720</td> <td>   -0.518</td> <td>    0.358</td>\n",
       "</tr>\n",
       "</table>\n",
       "<table class=\"simpletable\">\n",
       "<tr>\n",
       "  <th>Omnibus:</th>       <td> 0.242</td> <th>  Durbin-Watson:     </th> <td>   1.938</td>\n",
       "</tr>\n",
       "<tr>\n",
       "  <th>Prob(Omnibus):</th> <td> 0.886</td> <th>  Jarque-Bera (JB):  </th> <td>   0.245</td>\n",
       "</tr>\n",
       "<tr>\n",
       "  <th>Skew:</th>          <td> 0.059</td> <th>  Prob(JB):          </th> <td>   0.885</td>\n",
       "</tr>\n",
       "<tr>\n",
       "  <th>Kurtosis:</th>      <td> 2.971</td> <th>  Cond. No.          </th> <td>1.34e+03</td>\n",
       "</tr>\n",
       "</table><br/><br/>Notes:<br/>[1] Standard Errors assume that the covariance matrix of the errors is correctly specified.<br/>[2] The condition number is large, 1.34e+03. This might indicate that there are<br/>strong multicollinearity or other numerical problems."
      ],
      "text/plain": [
       "<class 'statsmodels.iolib.summary.Summary'>\n",
       "\"\"\"\n",
       "                            OLS Regression Results                            \n",
       "==============================================================================\n",
       "Dep. Variable:                  Sales   R-squared:                       0.709\n",
       "Model:                            OLS   Adj. R-squared:                  0.703\n",
       "Method:                 Least Squares   F-statistic:                     105.8\n",
       "Date:                Sun, 27 Dec 2020   Prob (F-statistic):           6.29e-99\n",
       "Time:                        12:29:31   Log-Likelihood:                -735.21\n",
       "No. Observations:                 400   AIC:                             1490.\n",
       "Df Residuals:                     390   BIC:                             1530.\n",
       "Df Model:                           9                                         \n",
       "Covariance Type:            nonrobust                                         \n",
       "====================================================================================\n",
       "                       coef    std err          t      P>|t|      [0.025      0.975]\n",
       "------------------------------------------------------------------------------------\n",
       "Intercept           13.4510      0.699     19.243      0.000      12.077      14.825\n",
       "Income               0.0134      0.003      4.820      0.000       0.008       0.019\n",
       "Advertising          0.1087      0.016      6.821      0.000       0.077       0.140\n",
       "Price               -0.0608      0.003    -18.446      0.000      -0.067      -0.054\n",
       "Age                 -0.0500      0.005    -10.432      0.000      -0.059      -0.041\n",
       "Education           -0.0125      0.030     -0.422      0.673      -0.071       0.046\n",
       "ShelveLoc_Good       4.9019      0.231     21.204      0.000       4.447       5.356\n",
       "ShelveLoc_Medium     2.0223      0.190     10.636      0.000       1.648       2.396\n",
       "Urban_Yes            0.2621      0.170      1.540      0.124      -0.072       0.597\n",
       "US_Yes              -0.0800      0.223     -0.359      0.720      -0.518       0.358\n",
       "==============================================================================\n",
       "Omnibus:                        0.242   Durbin-Watson:                   1.938\n",
       "Prob(Omnibus):                  0.886   Jarque-Bera (JB):                0.245\n",
       "Skew:                           0.059   Prob(JB):                        0.885\n",
       "Kurtosis:                       2.971   Cond. No.                     1.34e+03\n",
       "==============================================================================\n",
       "\n",
       "Notes:\n",
       "[1] Standard Errors assume that the covariance matrix of the errors is correctly specified.\n",
       "[2] The condition number is large, 1.34e+03. This might indicate that there are\n",
       "strong multicollinearity or other numerical problems.\n",
       "\"\"\""
      ]
     },
     "execution_count": 32,
     "metadata": {},
     "output_type": "execute_result"
    }
   ],
   "source": [
    "model_MLR_3.summary()"
   ]
  },
  {
   "cell_type": "markdown",
   "metadata": {},
   "source": [
    "As per our understanding, we see that both the Adjusted ${R^2}$ and the ${R^2}$ values have dropped massively. The p-values of t-statistic of certain variables have also changed. This indicates that as per the last iteration of the model a few values have become more important.  \n",
    "\n",
    "\n",
    "\n",
    "Let us again the model before dropping any statistically significant variables."
   ]
  },
  {
   "cell_type": "code",
   "execution_count": 33,
   "metadata": {},
   "outputs": [
    {
     "data": {
      "text/html": [
       "<table class=\"simpletable\">\n",
       "<caption>OLS Regression Results</caption>\n",
       "<tr>\n",
       "  <th>Dep. Variable:</th>          <td>Sales</td>      <th>  R-squared:         </th> <td>   0.873</td> \n",
       "</tr>\n",
       "<tr>\n",
       "  <th>Model:</th>                   <td>OLS</td>       <th>  Adj. R-squared:    </th> <td>   0.870</td> \n",
       "</tr>\n",
       "<tr>\n",
       "  <th>Method:</th>             <td>Least Squares</td>  <th>  F-statistic:       </th> <td>   268.2</td> \n",
       "</tr>\n",
       "<tr>\n",
       "  <th>Date:</th>             <td>Sun, 27 Dec 2020</td> <th>  Prob (F-statistic):</th> <td>1.11e-167</td>\n",
       "</tr>\n",
       "<tr>\n",
       "  <th>Time:</th>                 <td>12:29:31</td>     <th>  Log-Likelihood:    </th> <td> -569.15</td> \n",
       "</tr>\n",
       "<tr>\n",
       "  <th>No. Observations:</th>      <td>   400</td>      <th>  AIC:               </th> <td>   1160.</td> \n",
       "</tr>\n",
       "<tr>\n",
       "  <th>Df Residuals:</th>          <td>   389</td>      <th>  BIC:               </th> <td>   1204.</td> \n",
       "</tr>\n",
       "<tr>\n",
       "  <th>Df Model:</th>              <td>    10</td>      <th>                     </th>     <td> </td>    \n",
       "</tr>\n",
       "<tr>\n",
       "  <th>Covariance Type:</th>      <td>nonrobust</td>    <th>                     </th>     <td> </td>    \n",
       "</tr>\n",
       "</table>\n",
       "<table class=\"simpletable\">\n",
       "<tr>\n",
       "          <td></td>            <th>coef</th>     <th>std err</th>      <th>t</th>      <th>P>|t|</th>  <th>[0.025</th>    <th>0.975]</th>  \n",
       "</tr>\n",
       "<tr>\n",
       "  <th>Intercept</th>        <td>    5.7619</td> <td>    0.575</td> <td>   10.015</td> <td> 0.000</td> <td>    4.631</td> <td>    6.893</td>\n",
       "</tr>\n",
       "<tr>\n",
       "  <th>CompPrice</th>        <td>    0.0926</td> <td>    0.004</td> <td>   22.436</td> <td> 0.000</td> <td>    0.084</td> <td>    0.101</td>\n",
       "</tr>\n",
       "<tr>\n",
       "  <th>Income</th>           <td>    0.0158</td> <td>    0.002</td> <td>    8.560</td> <td> 0.000</td> <td>    0.012</td> <td>    0.019</td>\n",
       "</tr>\n",
       "<tr>\n",
       "  <th>Advertising</th>      <td>    0.1250</td> <td>    0.011</td> <td>   11.844</td> <td> 0.000</td> <td>    0.104</td> <td>    0.146</td>\n",
       "</tr>\n",
       "<tr>\n",
       "  <th>Price</th>            <td>   -0.0953</td> <td>    0.003</td> <td>  -35.736</td> <td> 0.000</td> <td>   -0.101</td> <td>   -0.090</td>\n",
       "</tr>\n",
       "<tr>\n",
       "  <th>Age</th>              <td>   -0.0461</td> <td>    0.003</td> <td>  -14.520</td> <td> 0.000</td> <td>   -0.052</td> <td>   -0.040</td>\n",
       "</tr>\n",
       "<tr>\n",
       "  <th>Education</th>        <td>   -0.0224</td> <td>    0.020</td> <td>   -1.145</td> <td> 0.253</td> <td>   -0.061</td> <td>    0.016</td>\n",
       "</tr>\n",
       "<tr>\n",
       "  <th>ShelveLoc_Good</th>   <td>    4.8467</td> <td>    0.153</td> <td>   31.709</td> <td> 0.000</td> <td>    4.546</td> <td>    5.147</td>\n",
       "</tr>\n",
       "<tr>\n",
       "  <th>ShelveLoc_Medium</th> <td>    1.9521</td> <td>    0.126</td> <td>   15.526</td> <td> 0.000</td> <td>    1.705</td> <td>    2.199</td>\n",
       "</tr>\n",
       "<tr>\n",
       "  <th>Urban_Yes</th>        <td>    0.1189</td> <td>    0.113</td> <td>    1.055</td> <td> 0.292</td> <td>   -0.103</td> <td>    0.340</td>\n",
       "</tr>\n",
       "<tr>\n",
       "  <th>US_Yes</th>           <td>   -0.1991</td> <td>    0.147</td> <td>   -1.351</td> <td> 0.177</td> <td>   -0.489</td> <td>    0.091</td>\n",
       "</tr>\n",
       "</table>\n",
       "<table class=\"simpletable\">\n",
       "<tr>\n",
       "  <th>Omnibus:</th>       <td> 0.899</td> <th>  Durbin-Watson:     </th> <td>   2.016</td>\n",
       "</tr>\n",
       "<tr>\n",
       "  <th>Prob(Omnibus):</th> <td> 0.638</td> <th>  Jarque-Bera (JB):  </th> <td>   0.826</td>\n",
       "</tr>\n",
       "<tr>\n",
       "  <th>Skew:</th>          <td> 0.111</td> <th>  Prob(JB):          </th> <td>   0.662</td>\n",
       "</tr>\n",
       "<tr>\n",
       "  <th>Kurtosis:</th>      <td> 3.012</td> <th>  Cond. No.          </th> <td>2.19e+03</td>\n",
       "</tr>\n",
       "</table><br/><br/>Notes:<br/>[1] Standard Errors assume that the covariance matrix of the errors is correctly specified.<br/>[2] The condition number is large, 2.19e+03. This might indicate that there are<br/>strong multicollinearity or other numerical problems."
      ],
      "text/plain": [
       "<class 'statsmodels.iolib.summary.Summary'>\n",
       "\"\"\"\n",
       "                            OLS Regression Results                            \n",
       "==============================================================================\n",
       "Dep. Variable:                  Sales   R-squared:                       0.873\n",
       "Model:                            OLS   Adj. R-squared:                  0.870\n",
       "Method:                 Least Squares   F-statistic:                     268.2\n",
       "Date:                Sun, 27 Dec 2020   Prob (F-statistic):          1.11e-167\n",
       "Time:                        12:29:31   Log-Likelihood:                -569.15\n",
       "No. Observations:                 400   AIC:                             1160.\n",
       "Df Residuals:                     389   BIC:                             1204.\n",
       "Df Model:                          10                                         \n",
       "Covariance Type:            nonrobust                                         \n",
       "====================================================================================\n",
       "                       coef    std err          t      P>|t|      [0.025      0.975]\n",
       "------------------------------------------------------------------------------------\n",
       "Intercept            5.7619      0.575     10.015      0.000       4.631       6.893\n",
       "CompPrice            0.0926      0.004     22.436      0.000       0.084       0.101\n",
       "Income               0.0158      0.002      8.560      0.000       0.012       0.019\n",
       "Advertising          0.1250      0.011     11.844      0.000       0.104       0.146\n",
       "Price               -0.0953      0.003    -35.736      0.000      -0.101      -0.090\n",
       "Age                 -0.0461      0.003    -14.520      0.000      -0.052      -0.040\n",
       "Education           -0.0224      0.020     -1.145      0.253      -0.061       0.016\n",
       "ShelveLoc_Good       4.8467      0.153     31.709      0.000       4.546       5.147\n",
       "ShelveLoc_Medium     1.9521      0.126     15.526      0.000       1.705       2.199\n",
       "Urban_Yes            0.1189      0.113      1.055      0.292      -0.103       0.340\n",
       "US_Yes              -0.1991      0.147     -1.351      0.177      -0.489       0.091\n",
       "==============================================================================\n",
       "Omnibus:                        0.899   Durbin-Watson:                   2.016\n",
       "Prob(Omnibus):                  0.638   Jarque-Bera (JB):                0.826\n",
       "Skew:                           0.111   Prob(JB):                        0.662\n",
       "Kurtosis:                       3.012   Cond. No.                     2.19e+03\n",
       "==============================================================================\n",
       "\n",
       "Notes:\n",
       "[1] Standard Errors assume that the covariance matrix of the errors is correctly specified.\n",
       "[2] The condition number is large, 2.19e+03. This might indicate that there are\n",
       "strong multicollinearity or other numerical problems.\n",
       "\"\"\""
      ]
     },
     "execution_count": 33,
     "metadata": {},
     "output_type": "execute_result"
    }
   ],
   "source": [
    "model_MLR_2.summary()"
   ]
  },
  {
   "cell_type": "markdown",
   "metadata": {},
   "source": [
    "Let us now go ahead and drop the 'Urban_Yes' variable as that does not seem very statistically significant. "
   ]
  },
  {
   "cell_type": "code",
   "execution_count": 34,
   "metadata": {},
   "outputs": [],
   "source": [
    "formula_MLR_4 = 'Sales~CompPrice+Income+Advertising+Price+Age+Education+ShelveLoc_Good+ShelveLoc_Medium+US_Yes'"
   ]
  },
  {
   "cell_type": "code",
   "execution_count": 35,
   "metadata": {},
   "outputs": [],
   "source": [
    "model_MLR_4 = SM.ols(formula=formula_MLR_4,data=df_dummy).fit()"
   ]
  },
  {
   "cell_type": "code",
   "execution_count": 36,
   "metadata": {},
   "outputs": [
    {
     "data": {
      "text/html": [
       "<table class=\"simpletable\">\n",
       "<caption>OLS Regression Results</caption>\n",
       "<tr>\n",
       "  <th>Dep. Variable:</th>          <td>Sales</td>      <th>  R-squared:         </th> <td>   0.873</td> \n",
       "</tr>\n",
       "<tr>\n",
       "  <th>Model:</th>                   <td>OLS</td>       <th>  Adj. R-squared:    </th> <td>   0.870</td> \n",
       "</tr>\n",
       "<tr>\n",
       "  <th>Method:</th>             <td>Least Squares</td>  <th>  F-statistic:       </th> <td>   297.7</td> \n",
       "</tr>\n",
       "<tr>\n",
       "  <th>Date:</th>             <td>Sun, 27 Dec 2020</td> <th>  Prob (F-statistic):</th> <td>1.09e-168</td>\n",
       "</tr>\n",
       "<tr>\n",
       "  <th>Time:</th>                 <td>12:29:31</td>     <th>  Log-Likelihood:    </th> <td> -569.72</td> \n",
       "</tr>\n",
       "<tr>\n",
       "  <th>No. Observations:</th>      <td>   400</td>      <th>  AIC:               </th> <td>   1159.</td> \n",
       "</tr>\n",
       "<tr>\n",
       "  <th>Df Residuals:</th>          <td>   390</td>      <th>  BIC:               </th> <td>   1199.</td> \n",
       "</tr>\n",
       "<tr>\n",
       "  <th>Df Model:</th>              <td>     9</td>      <th>                     </th>     <td> </td>    \n",
       "</tr>\n",
       "<tr>\n",
       "  <th>Covariance Type:</th>      <td>nonrobust</td>    <th>                     </th>     <td> </td>    \n",
       "</tr>\n",
       "</table>\n",
       "<table class=\"simpletable\">\n",
       "<tr>\n",
       "          <td></td>            <th>coef</th>     <th>std err</th>      <th>t</th>      <th>P>|t|</th>  <th>[0.025</th>    <th>0.975]</th>  \n",
       "</tr>\n",
       "<tr>\n",
       "  <th>Intercept</th>        <td>    5.8140</td> <td>    0.573</td> <td>   10.142</td> <td> 0.000</td> <td>    4.687</td> <td>    6.941</td>\n",
       "</tr>\n",
       "<tr>\n",
       "  <th>CompPrice</th>        <td>    0.0929</td> <td>    0.004</td> <td>   22.529</td> <td> 0.000</td> <td>    0.085</td> <td>    0.101</td>\n",
       "</tr>\n",
       "<tr>\n",
       "  <th>Income</th>           <td>    0.0158</td> <td>    0.002</td> <td>    8.598</td> <td> 0.000</td> <td>    0.012</td> <td>    0.019</td>\n",
       "</tr>\n",
       "<tr>\n",
       "  <th>Advertising</th>      <td>    0.1253</td> <td>    0.011</td> <td>   11.868</td> <td> 0.000</td> <td>    0.105</td> <td>    0.146</td>\n",
       "</tr>\n",
       "<tr>\n",
       "  <th>Price</th>            <td>   -0.0953</td> <td>    0.003</td> <td>  -35.721</td> <td> 0.000</td> <td>   -0.101</td> <td>   -0.090</td>\n",
       "</tr>\n",
       "<tr>\n",
       "  <th>Age</th>              <td>   -0.0460</td> <td>    0.003</td> <td>  -14.488</td> <td> 0.000</td> <td>   -0.052</td> <td>   -0.040</td>\n",
       "</tr>\n",
       "<tr>\n",
       "  <th>Education</th>        <td>   -0.0231</td> <td>    0.020</td> <td>   -1.180</td> <td> 0.239</td> <td>   -0.062</td> <td>    0.015</td>\n",
       "</tr>\n",
       "<tr>\n",
       "  <th>ShelveLoc_Good</th>   <td>    4.8339</td> <td>    0.152</td> <td>   31.721</td> <td> 0.000</td> <td>    4.534</td> <td>    5.133</td>\n",
       "</tr>\n",
       "<tr>\n",
       "  <th>ShelveLoc_Medium</th> <td>    1.9422</td> <td>    0.125</td> <td>   15.489</td> <td> 0.000</td> <td>    1.696</td> <td>    2.189</td>\n",
       "</tr>\n",
       "<tr>\n",
       "  <th>US_Yes</th>           <td>   -0.1968</td> <td>    0.147</td> <td>   -1.336</td> <td> 0.182</td> <td>   -0.486</td> <td>    0.093</td>\n",
       "</tr>\n",
       "</table>\n",
       "<table class=\"simpletable\">\n",
       "<tr>\n",
       "  <th>Omnibus:</th>       <td> 0.872</td> <th>  Durbin-Watson:     </th> <td>   2.009</td>\n",
       "</tr>\n",
       "<tr>\n",
       "  <th>Prob(Omnibus):</th> <td> 0.647</td> <th>  Jarque-Bera (JB):  </th> <td>   0.832</td>\n",
       "</tr>\n",
       "<tr>\n",
       "  <th>Skew:</th>          <td> 0.112</td> <th>  Prob(JB):          </th> <td>   0.660</td>\n",
       "</tr>\n",
       "<tr>\n",
       "  <th>Kurtosis:</th>      <td> 2.989</td> <th>  Cond. No.          </th> <td>2.18e+03</td>\n",
       "</tr>\n",
       "</table><br/><br/>Notes:<br/>[1] Standard Errors assume that the covariance matrix of the errors is correctly specified.<br/>[2] The condition number is large, 2.18e+03. This might indicate that there are<br/>strong multicollinearity or other numerical problems."
      ],
      "text/plain": [
       "<class 'statsmodels.iolib.summary.Summary'>\n",
       "\"\"\"\n",
       "                            OLS Regression Results                            \n",
       "==============================================================================\n",
       "Dep. Variable:                  Sales   R-squared:                       0.873\n",
       "Model:                            OLS   Adj. R-squared:                  0.870\n",
       "Method:                 Least Squares   F-statistic:                     297.7\n",
       "Date:                Sun, 27 Dec 2020   Prob (F-statistic):          1.09e-168\n",
       "Time:                        12:29:31   Log-Likelihood:                -569.72\n",
       "No. Observations:                 400   AIC:                             1159.\n",
       "Df Residuals:                     390   BIC:                             1199.\n",
       "Df Model:                           9                                         \n",
       "Covariance Type:            nonrobust                                         \n",
       "====================================================================================\n",
       "                       coef    std err          t      P>|t|      [0.025      0.975]\n",
       "------------------------------------------------------------------------------------\n",
       "Intercept            5.8140      0.573     10.142      0.000       4.687       6.941\n",
       "CompPrice            0.0929      0.004     22.529      0.000       0.085       0.101\n",
       "Income               0.0158      0.002      8.598      0.000       0.012       0.019\n",
       "Advertising          0.1253      0.011     11.868      0.000       0.105       0.146\n",
       "Price               -0.0953      0.003    -35.721      0.000      -0.101      -0.090\n",
       "Age                 -0.0460      0.003    -14.488      0.000      -0.052      -0.040\n",
       "Education           -0.0231      0.020     -1.180      0.239      -0.062       0.015\n",
       "ShelveLoc_Good       4.8339      0.152     31.721      0.000       4.534       5.133\n",
       "ShelveLoc_Medium     1.9422      0.125     15.489      0.000       1.696       2.189\n",
       "US_Yes              -0.1968      0.147     -1.336      0.182      -0.486       0.093\n",
       "==============================================================================\n",
       "Omnibus:                        0.872   Durbin-Watson:                   2.009\n",
       "Prob(Omnibus):                  0.647   Jarque-Bera (JB):                0.832\n",
       "Skew:                           0.112   Prob(JB):                        0.660\n",
       "Kurtosis:                       2.989   Cond. No.                     2.18e+03\n",
       "==============================================================================\n",
       "\n",
       "Notes:\n",
       "[1] Standard Errors assume that the covariance matrix of the errors is correctly specified.\n",
       "[2] The condition number is large, 2.18e+03. This might indicate that there are\n",
       "strong multicollinearity or other numerical problems.\n",
       "\"\"\""
      ]
     },
     "execution_count": 36,
     "metadata": {},
     "output_type": "execute_result"
    }
   ],
   "source": [
    "model_MLR_4.summary()"
   ]
  },
  {
   "cell_type": "markdown",
   "metadata": {},
   "source": [
    "Almost no change in the ${R^2}$ and Adjusted ${R^2}$ is observed thus confirming the fact that the variable was indeed not significant."
   ]
  },
  {
   "cell_type": "markdown",
   "metadata": {},
   "source": [
    "Now we will check the diagnostics of the model after dropping the 'Education' variable as that does not seem significant."
   ]
  },
  {
   "cell_type": "code",
   "execution_count": 37,
   "metadata": {},
   "outputs": [],
   "source": [
    "formula_MLR_5 = 'Sales~CompPrice+Income+Advertising+Price+Age+ShelveLoc_Good+ShelveLoc_Medium+Urban_Yes'"
   ]
  },
  {
   "cell_type": "code",
   "execution_count": 38,
   "metadata": {},
   "outputs": [],
   "source": [
    "model_MLR_5 = SM.ols(formula=formula_MLR_5,data=df_dummy).fit()"
   ]
  },
  {
   "cell_type": "code",
   "execution_count": 39,
   "metadata": {},
   "outputs": [
    {
     "data": {
      "text/html": [
       "<table class=\"simpletable\">\n",
       "<caption>OLS Regression Results</caption>\n",
       "<tr>\n",
       "  <th>Dep. Variable:</th>          <td>Sales</td>      <th>  R-squared:         </th> <td>   0.872</td> \n",
       "</tr>\n",
       "<tr>\n",
       "  <th>Model:</th>                   <td>OLS</td>       <th>  Adj. R-squared:    </th> <td>   0.870</td> \n",
       "</tr>\n",
       "<tr>\n",
       "  <th>Method:</th>             <td>Least Squares</td>  <th>  F-statistic:       </th> <td>   334.0</td> \n",
       "</tr>\n",
       "<tr>\n",
       "  <th>Date:</th>             <td>Sun, 27 Dec 2020</td> <th>  Prob (F-statistic):</th> <td>1.43e-169</td>\n",
       "</tr>\n",
       "<tr>\n",
       "  <th>Time:</th>                 <td>12:29:31</td>     <th>  Log-Likelihood:    </th> <td> -570.65</td> \n",
       "</tr>\n",
       "<tr>\n",
       "  <th>No. Observations:</th>      <td>   400</td>      <th>  AIC:               </th> <td>   1159.</td> \n",
       "</tr>\n",
       "<tr>\n",
       "  <th>Df Residuals:</th>          <td>   391</td>      <th>  BIC:               </th> <td>   1195.</td> \n",
       "</tr>\n",
       "<tr>\n",
       "  <th>Df Model:</th>              <td>     8</td>      <th>                     </th>     <td> </td>    \n",
       "</tr>\n",
       "<tr>\n",
       "  <th>Covariance Type:</th>      <td>nonrobust</td>    <th>                     </th>     <td> </td>    \n",
       "</tr>\n",
       "</table>\n",
       "<table class=\"simpletable\">\n",
       "<tr>\n",
       "          <td></td>            <th>coef</th>     <th>std err</th>      <th>t</th>      <th>P>|t|</th>  <th>[0.025</th>    <th>0.975]</th>  \n",
       "</tr>\n",
       "<tr>\n",
       "  <th>Intercept</th>        <td>    5.4316</td> <td>    0.507</td> <td>   10.723</td> <td> 0.000</td> <td>    4.436</td> <td>    6.428</td>\n",
       "</tr>\n",
       "<tr>\n",
       "  <th>CompPrice</th>        <td>    0.0923</td> <td>    0.004</td> <td>   22.359</td> <td> 0.000</td> <td>    0.084</td> <td>    0.100</td>\n",
       "</tr>\n",
       "<tr>\n",
       "  <th>Income</th>           <td>    0.0157</td> <td>    0.002</td> <td>    8.547</td> <td> 0.000</td> <td>    0.012</td> <td>    0.019</td>\n",
       "</tr>\n",
       "<tr>\n",
       "  <th>Advertising</th>      <td>    0.1155</td> <td>    0.008</td> <td>   14.946</td> <td> 0.000</td> <td>    0.100</td> <td>    0.131</td>\n",
       "</tr>\n",
       "<tr>\n",
       "  <th>Price</th>            <td>   -0.0954</td> <td>    0.003</td> <td>  -35.715</td> <td> 0.000</td> <td>   -0.101</td> <td>   -0.090</td>\n",
       "</tr>\n",
       "<tr>\n",
       "  <th>Age</th>              <td>   -0.0463</td> <td>    0.003</td> <td>  -14.555</td> <td> 0.000</td> <td>   -0.053</td> <td>   -0.040</td>\n",
       "</tr>\n",
       "<tr>\n",
       "  <th>ShelveLoc_Good</th>   <td>    4.8485</td> <td>    0.153</td> <td>   31.702</td> <td> 0.000</td> <td>    4.548</td> <td>    5.149</td>\n",
       "</tr>\n",
       "<tr>\n",
       "  <th>ShelveLoc_Medium</th> <td>    1.9622</td> <td>    0.126</td> <td>   15.608</td> <td> 0.000</td> <td>    1.715</td> <td>    2.209</td>\n",
       "</tr>\n",
       "<tr>\n",
       "  <th>Urban_Yes</th>        <td>    0.1206</td> <td>    0.113</td> <td>    1.070</td> <td> 0.285</td> <td>   -0.101</td> <td>    0.342</td>\n",
       "</tr>\n",
       "</table>\n",
       "<table class=\"simpletable\">\n",
       "<tr>\n",
       "  <th>Omnibus:</th>       <td> 0.775</td> <th>  Durbin-Watson:     </th> <td>   1.997</td>\n",
       "</tr>\n",
       "<tr>\n",
       "  <th>Prob(Omnibus):</th> <td> 0.679</td> <th>  Jarque-Bera (JB):  </th> <td>   0.778</td>\n",
       "</tr>\n",
       "<tr>\n",
       "  <th>Skew:</th>          <td> 0.106</td> <th>  Prob(JB):          </th> <td>   0.678</td>\n",
       "</tr>\n",
       "<tr>\n",
       "  <th>Kurtosis:</th>      <td> 2.961</td> <th>  Cond. No.          </th> <td>1.92e+03</td>\n",
       "</tr>\n",
       "</table><br/><br/>Notes:<br/>[1] Standard Errors assume that the covariance matrix of the errors is correctly specified.<br/>[2] The condition number is large, 1.92e+03. This might indicate that there are<br/>strong multicollinearity or other numerical problems."
      ],
      "text/plain": [
       "<class 'statsmodels.iolib.summary.Summary'>\n",
       "\"\"\"\n",
       "                            OLS Regression Results                            \n",
       "==============================================================================\n",
       "Dep. Variable:                  Sales   R-squared:                       0.872\n",
       "Model:                            OLS   Adj. R-squared:                  0.870\n",
       "Method:                 Least Squares   F-statistic:                     334.0\n",
       "Date:                Sun, 27 Dec 2020   Prob (F-statistic):          1.43e-169\n",
       "Time:                        12:29:31   Log-Likelihood:                -570.65\n",
       "No. Observations:                 400   AIC:                             1159.\n",
       "Df Residuals:                     391   BIC:                             1195.\n",
       "Df Model:                           8                                         \n",
       "Covariance Type:            nonrobust                                         \n",
       "====================================================================================\n",
       "                       coef    std err          t      P>|t|      [0.025      0.975]\n",
       "------------------------------------------------------------------------------------\n",
       "Intercept            5.4316      0.507     10.723      0.000       4.436       6.428\n",
       "CompPrice            0.0923      0.004     22.359      0.000       0.084       0.100\n",
       "Income               0.0157      0.002      8.547      0.000       0.012       0.019\n",
       "Advertising          0.1155      0.008     14.946      0.000       0.100       0.131\n",
       "Price               -0.0954      0.003    -35.715      0.000      -0.101      -0.090\n",
       "Age                 -0.0463      0.003    -14.555      0.000      -0.053      -0.040\n",
       "ShelveLoc_Good       4.8485      0.153     31.702      0.000       4.548       5.149\n",
       "ShelveLoc_Medium     1.9622      0.126     15.608      0.000       1.715       2.209\n",
       "Urban_Yes            0.1206      0.113      1.070      0.285      -0.101       0.342\n",
       "==============================================================================\n",
       "Omnibus:                        0.775   Durbin-Watson:                   1.997\n",
       "Prob(Omnibus):                  0.679   Jarque-Bera (JB):                0.778\n",
       "Skew:                           0.106   Prob(JB):                        0.678\n",
       "Kurtosis:                       2.961   Cond. No.                     1.92e+03\n",
       "==============================================================================\n",
       "\n",
       "Notes:\n",
       "[1] Standard Errors assume that the covariance matrix of the errors is correctly specified.\n",
       "[2] The condition number is large, 1.92e+03. This might indicate that there are\n",
       "strong multicollinearity or other numerical problems.\n",
       "\"\"\""
      ]
     },
     "execution_count": 39,
     "metadata": {},
     "output_type": "execute_result"
    }
   ],
   "source": [
    "model_MLR_5.summary()"
   ]
  },
  {
   "cell_type": "markdown",
   "metadata": {},
   "source": [
    "From the above model we can thus conclude that the Education level at location of the store is not a significant variable when it comes to predicting the sales."
   ]
  },
  {
   "cell_type": "markdown",
   "metadata": {},
   "source": [
    "From the p-value of the $t_{statistic}$ of 'Urban_Yes', the variable does not seem significant. We will run the model by dropping the variable and then we will again check the values of $R^2$ and adjusted $R^2$."
   ]
  },
  {
   "cell_type": "code",
   "execution_count": 40,
   "metadata": {},
   "outputs": [],
   "source": [
    "formula_MLR_6 = 'Sales~CompPrice+Income+Advertising+Price+Age+ShelveLoc_Good+ShelveLoc_Medium'"
   ]
  },
  {
   "cell_type": "code",
   "execution_count": 41,
   "metadata": {},
   "outputs": [],
   "source": [
    "model_MLR_6 = SM.ols(formula=formula_MLR_6,data=df_dummy).fit()"
   ]
  },
  {
   "cell_type": "code",
   "execution_count": 42,
   "metadata": {},
   "outputs": [
    {
     "data": {
      "text/html": [
       "<table class=\"simpletable\">\n",
       "<caption>OLS Regression Results</caption>\n",
       "<tr>\n",
       "  <th>Dep. Variable:</th>          <td>Sales</td>      <th>  R-squared:         </th> <td>   0.872</td> \n",
       "</tr>\n",
       "<tr>\n",
       "  <th>Model:</th>                   <td>OLS</td>       <th>  Adj. R-squared:    </th> <td>   0.870</td> \n",
       "</tr>\n",
       "<tr>\n",
       "  <th>Method:</th>             <td>Least Squares</td>  <th>  F-statistic:       </th> <td>   381.4</td> \n",
       "</tr>\n",
       "<tr>\n",
       "  <th>Date:</th>             <td>Sun, 27 Dec 2020</td> <th>  Prob (F-statistic):</th> <td>1.25e-170</td>\n",
       "</tr>\n",
       "<tr>\n",
       "  <th>Time:</th>                 <td>12:29:31</td>     <th>  Log-Likelihood:    </th> <td> -571.24</td> \n",
       "</tr>\n",
       "<tr>\n",
       "  <th>No. Observations:</th>      <td>   400</td>      <th>  AIC:               </th> <td>   1158.</td> \n",
       "</tr>\n",
       "<tr>\n",
       "  <th>Df Residuals:</th>          <td>   392</td>      <th>  BIC:               </th> <td>   1190.</td> \n",
       "</tr>\n",
       "<tr>\n",
       "  <th>Df Model:</th>              <td>     7</td>      <th>                     </th>     <td> </td>    \n",
       "</tr>\n",
       "<tr>\n",
       "  <th>Covariance Type:</th>      <td>nonrobust</td>    <th>                     </th>     <td> </td>    \n",
       "</tr>\n",
       "</table>\n",
       "<table class=\"simpletable\">\n",
       "<tr>\n",
       "          <td></td>            <th>coef</th>     <th>std err</th>      <th>t</th>      <th>P>|t|</th>  <th>[0.025</th>    <th>0.975]</th>  \n",
       "</tr>\n",
       "<tr>\n",
       "  <th>Intercept</th>        <td>    5.4752</td> <td>    0.505</td> <td>   10.842</td> <td> 0.000</td> <td>    4.482</td> <td>    6.468</td>\n",
       "</tr>\n",
       "<tr>\n",
       "  <th>CompPrice</th>        <td>    0.0926</td> <td>    0.004</td> <td>   22.451</td> <td> 0.000</td> <td>    0.084</td> <td>    0.101</td>\n",
       "</tr>\n",
       "<tr>\n",
       "  <th>Income</th>           <td>    0.0158</td> <td>    0.002</td> <td>    8.590</td> <td> 0.000</td> <td>    0.012</td> <td>    0.019</td>\n",
       "</tr>\n",
       "<tr>\n",
       "  <th>Advertising</th>      <td>    0.1159</td> <td>    0.008</td> <td>   15.006</td> <td> 0.000</td> <td>    0.101</td> <td>    0.131</td>\n",
       "</tr>\n",
       "<tr>\n",
       "  <th>Price</th>            <td>   -0.0953</td> <td>    0.003</td> <td>  -35.699</td> <td> 0.000</td> <td>   -0.101</td> <td>   -0.090</td>\n",
       "</tr>\n",
       "<tr>\n",
       "  <th>Age</th>              <td>   -0.0461</td> <td>    0.003</td> <td>  -14.521</td> <td> 0.000</td> <td>   -0.052</td> <td>   -0.040</td>\n",
       "</tr>\n",
       "<tr>\n",
       "  <th>ShelveLoc_Good</th>   <td>    4.8357</td> <td>    0.152</td> <td>   31.710</td> <td> 0.000</td> <td>    4.536</td> <td>    5.135</td>\n",
       "</tr>\n",
       "<tr>\n",
       "  <th>ShelveLoc_Medium</th> <td>    1.9520</td> <td>    0.125</td> <td>   15.569</td> <td> 0.000</td> <td>    1.706</td> <td>    2.198</td>\n",
       "</tr>\n",
       "</table>\n",
       "<table class=\"simpletable\">\n",
       "<tr>\n",
       "  <th>Omnibus:</th>       <td> 0.766</td> <th>  Durbin-Watson:     </th> <td>   1.988</td>\n",
       "</tr>\n",
       "<tr>\n",
       "  <th>Prob(Omnibus):</th> <td> 0.682</td> <th>  Jarque-Bera (JB):  </th> <td>   0.810</td>\n",
       "</tr>\n",
       "<tr>\n",
       "  <th>Skew:</th>          <td> 0.104</td> <th>  Prob(JB):          </th> <td>   0.667</td>\n",
       "</tr>\n",
       "<tr>\n",
       "  <th>Kurtosis:</th>      <td> 2.929</td> <th>  Cond. No.          </th> <td>1.91e+03</td>\n",
       "</tr>\n",
       "</table><br/><br/>Notes:<br/>[1] Standard Errors assume that the covariance matrix of the errors is correctly specified.<br/>[2] The condition number is large, 1.91e+03. This might indicate that there are<br/>strong multicollinearity or other numerical problems."
      ],
      "text/plain": [
       "<class 'statsmodels.iolib.summary.Summary'>\n",
       "\"\"\"\n",
       "                            OLS Regression Results                            \n",
       "==============================================================================\n",
       "Dep. Variable:                  Sales   R-squared:                       0.872\n",
       "Model:                            OLS   Adj. R-squared:                  0.870\n",
       "Method:                 Least Squares   F-statistic:                     381.4\n",
       "Date:                Sun, 27 Dec 2020   Prob (F-statistic):          1.25e-170\n",
       "Time:                        12:29:31   Log-Likelihood:                -571.24\n",
       "No. Observations:                 400   AIC:                             1158.\n",
       "Df Residuals:                     392   BIC:                             1190.\n",
       "Df Model:                           7                                         \n",
       "Covariance Type:            nonrobust                                         \n",
       "====================================================================================\n",
       "                       coef    std err          t      P>|t|      [0.025      0.975]\n",
       "------------------------------------------------------------------------------------\n",
       "Intercept            5.4752      0.505     10.842      0.000       4.482       6.468\n",
       "CompPrice            0.0926      0.004     22.451      0.000       0.084       0.101\n",
       "Income               0.0158      0.002      8.590      0.000       0.012       0.019\n",
       "Advertising          0.1159      0.008     15.006      0.000       0.101       0.131\n",
       "Price               -0.0953      0.003    -35.699      0.000      -0.101      -0.090\n",
       "Age                 -0.0461      0.003    -14.521      0.000      -0.052      -0.040\n",
       "ShelveLoc_Good       4.8357      0.152     31.710      0.000       4.536       5.135\n",
       "ShelveLoc_Medium     1.9520      0.125     15.569      0.000       1.706       2.198\n",
       "==============================================================================\n",
       "Omnibus:                        0.766   Durbin-Watson:                   1.988\n",
       "Prob(Omnibus):                  0.682   Jarque-Bera (JB):                0.810\n",
       "Skew:                           0.104   Prob(JB):                        0.667\n",
       "Kurtosis:                       2.929   Cond. No.                     1.91e+03\n",
       "==============================================================================\n",
       "\n",
       "Notes:\n",
       "[1] Standard Errors assume that the covariance matrix of the errors is correctly specified.\n",
       "[2] The condition number is large, 1.91e+03. This might indicate that there are\n",
       "strong multicollinearity or other numerical problems.\n",
       "\"\"\""
      ]
     },
     "execution_count": 42,
     "metadata": {},
     "output_type": "execute_result"
    }
   ],
   "source": [
    "model_MLR_6.summary()"
   ]
  },
  {
   "cell_type": "markdown",
   "metadata": {},
   "source": [
    "We see that the $R^2$ and adjusted $R^2$ values does not change much if we drop the 'Urban_Yes' variable."
   ]
  },
  {
   "cell_type": "markdown",
   "metadata": {},
   "source": [
    "\n",
    "Let us drop the 'Income' variable once and run the model."
   ]
  },
  {
   "cell_type": "code",
   "execution_count": 43,
   "metadata": {},
   "outputs": [],
   "source": [
    "formula_MLR_7 = 'Sales~CompPrice+Advertising+Price+Age+ShelveLoc_Good+ShelveLoc_Medium'"
   ]
  },
  {
   "cell_type": "code",
   "execution_count": 44,
   "metadata": {},
   "outputs": [],
   "source": [
    "model_MLR_7 = SM.ols(formula=formula_MLR_7,data=df_dummy).fit()"
   ]
  },
  {
   "cell_type": "code",
   "execution_count": 45,
   "metadata": {},
   "outputs": [
    {
     "data": {
      "text/html": [
       "<table class=\"simpletable\">\n",
       "<caption>OLS Regression Results</caption>\n",
       "<tr>\n",
       "  <th>Dep. Variable:</th>          <td>Sales</td>      <th>  R-squared:         </th> <td>   0.848</td> \n",
       "</tr>\n",
       "<tr>\n",
       "  <th>Model:</th>                   <td>OLS</td>       <th>  Adj. R-squared:    </th> <td>   0.846</td> \n",
       "</tr>\n",
       "<tr>\n",
       "  <th>Method:</th>             <td>Least Squares</td>  <th>  F-statistic:       </th> <td>   365.1</td> \n",
       "</tr>\n",
       "<tr>\n",
       "  <th>Date:</th>             <td>Sun, 27 Dec 2020</td> <th>  Prob (F-statistic):</th> <td>2.79e-157</td>\n",
       "</tr>\n",
       "<tr>\n",
       "  <th>Time:</th>                 <td>12:29:31</td>     <th>  Log-Likelihood:    </th> <td> -605.73</td> \n",
       "</tr>\n",
       "<tr>\n",
       "  <th>No. Observations:</th>      <td>   400</td>      <th>  AIC:               </th> <td>   1225.</td> \n",
       "</tr>\n",
       "<tr>\n",
       "  <th>Df Residuals:</th>          <td>   393</td>      <th>  BIC:               </th> <td>   1253.</td> \n",
       "</tr>\n",
       "<tr>\n",
       "  <th>Df Model:</th>              <td>     6</td>      <th>                     </th>     <td> </td>    \n",
       "</tr>\n",
       "<tr>\n",
       "  <th>Covariance Type:</th>      <td>nonrobust</td>    <th>                     </th>     <td> </td>    \n",
       "</tr>\n",
       "</table>\n",
       "<table class=\"simpletable\">\n",
       "<tr>\n",
       "          <td></td>            <th>coef</th>     <th>std err</th>      <th>t</th>      <th>P>|t|</th>  <th>[0.025</th>    <th>0.975]</th>  \n",
       "</tr>\n",
       "<tr>\n",
       "  <th>Intercept</th>        <td>    6.8830</td> <td>    0.520</td> <td>   13.236</td> <td> 0.000</td> <td>    5.861</td> <td>    7.905</td>\n",
       "</tr>\n",
       "<tr>\n",
       "  <th>CompPrice</th>        <td>    0.0907</td> <td>    0.004</td> <td>   20.225</td> <td> 0.000</td> <td>    0.082</td> <td>    0.099</td>\n",
       "</tr>\n",
       "<tr>\n",
       "  <th>Advertising</th>      <td>    0.1199</td> <td>    0.008</td> <td>   14.287</td> <td> 0.000</td> <td>    0.103</td> <td>    0.136</td>\n",
       "</tr>\n",
       "<tr>\n",
       "  <th>Price</th>            <td>   -0.0957</td> <td>    0.003</td> <td>  -32.918</td> <td> 0.000</td> <td>   -0.101</td> <td>   -0.090</td>\n",
       "</tr>\n",
       "<tr>\n",
       "  <th>Age</th>              <td>   -0.0464</td> <td>    0.003</td> <td>  -13.415</td> <td> 0.000</td> <td>   -0.053</td> <td>   -0.040</td>\n",
       "</tr>\n",
       "<tr>\n",
       "  <th>ShelveLoc_Good</th>   <td>    4.7686</td> <td>    0.166</td> <td>   28.761</td> <td> 0.000</td> <td>    4.443</td> <td>    5.095</td>\n",
       "</tr>\n",
       "<tr>\n",
       "  <th>ShelveLoc_Medium</th> <td>    1.8767</td> <td>    0.136</td> <td>   13.783</td> <td> 0.000</td> <td>    1.609</td> <td>    2.144</td>\n",
       "</tr>\n",
       "</table>\n",
       "<table class=\"simpletable\">\n",
       "<tr>\n",
       "  <th>Omnibus:</th>       <td> 1.637</td> <th>  Durbin-Watson:     </th> <td>   2.022</td>\n",
       "</tr>\n",
       "<tr>\n",
       "  <th>Prob(Omnibus):</th> <td> 0.441</td> <th>  Jarque-Bera (JB):  </th> <td>   1.728</td>\n",
       "</tr>\n",
       "<tr>\n",
       "  <th>Skew:</th>          <td> 0.140</td> <th>  Prob(JB):          </th> <td>   0.422</td>\n",
       "</tr>\n",
       "<tr>\n",
       "  <th>Kurtosis:</th>      <td> 2.842</td> <th>  Cond. No.          </th> <td>1.69e+03</td>\n",
       "</tr>\n",
       "</table><br/><br/>Notes:<br/>[1] Standard Errors assume that the covariance matrix of the errors is correctly specified.<br/>[2] The condition number is large, 1.69e+03. This might indicate that there are<br/>strong multicollinearity or other numerical problems."
      ],
      "text/plain": [
       "<class 'statsmodels.iolib.summary.Summary'>\n",
       "\"\"\"\n",
       "                            OLS Regression Results                            \n",
       "==============================================================================\n",
       "Dep. Variable:                  Sales   R-squared:                       0.848\n",
       "Model:                            OLS   Adj. R-squared:                  0.846\n",
       "Method:                 Least Squares   F-statistic:                     365.1\n",
       "Date:                Sun, 27 Dec 2020   Prob (F-statistic):          2.79e-157\n",
       "Time:                        12:29:31   Log-Likelihood:                -605.73\n",
       "No. Observations:                 400   AIC:                             1225.\n",
       "Df Residuals:                     393   BIC:                             1253.\n",
       "Df Model:                           6                                         \n",
       "Covariance Type:            nonrobust                                         \n",
       "====================================================================================\n",
       "                       coef    std err          t      P>|t|      [0.025      0.975]\n",
       "------------------------------------------------------------------------------------\n",
       "Intercept            6.8830      0.520     13.236      0.000       5.861       7.905\n",
       "CompPrice            0.0907      0.004     20.225      0.000       0.082       0.099\n",
       "Advertising          0.1199      0.008     14.287      0.000       0.103       0.136\n",
       "Price               -0.0957      0.003    -32.918      0.000      -0.101      -0.090\n",
       "Age                 -0.0464      0.003    -13.415      0.000      -0.053      -0.040\n",
       "ShelveLoc_Good       4.7686      0.166     28.761      0.000       4.443       5.095\n",
       "ShelveLoc_Medium     1.8767      0.136     13.783      0.000       1.609       2.144\n",
       "==============================================================================\n",
       "Omnibus:                        1.637   Durbin-Watson:                   2.022\n",
       "Prob(Omnibus):                  0.441   Jarque-Bera (JB):                1.728\n",
       "Skew:                           0.140   Prob(JB):                        0.422\n",
       "Kurtosis:                       2.842   Cond. No.                     1.69e+03\n",
       "==============================================================================\n",
       "\n",
       "Notes:\n",
       "[1] Standard Errors assume that the covariance matrix of the errors is correctly specified.\n",
       "[2] The condition number is large, 1.69e+03. This might indicate that there are\n",
       "strong multicollinearity or other numerical problems.\n",
       "\"\"\""
      ]
     },
     "execution_count": 45,
     "metadata": {},
     "output_type": "execute_result"
    }
   ],
   "source": [
    "model_MLR_7.summary()"
   ]
  },
  {
   "cell_type": "markdown",
   "metadata": {},
   "source": [
    "Let us drop the `Age` variable."
   ]
  },
  {
   "cell_type": "code",
   "execution_count": 46,
   "metadata": {},
   "outputs": [],
   "source": [
    "formula_MLR_8 = 'Sales~CompPrice+Advertising+Price+ShelveLoc_Good+ShelveLoc_Medium'"
   ]
  },
  {
   "cell_type": "code",
   "execution_count": 47,
   "metadata": {},
   "outputs": [],
   "source": [
    "model_MLR_8 = SM.ols(formula=formula_MLR_8,data=df_dummy).fit()"
   ]
  },
  {
   "cell_type": "code",
   "execution_count": 48,
   "metadata": {},
   "outputs": [
    {
     "data": {
      "text/html": [
       "<table class=\"simpletable\">\n",
       "<caption>OLS Regression Results</caption>\n",
       "<tr>\n",
       "  <th>Dep. Variable:</th>          <td>Sales</td>      <th>  R-squared:         </th> <td>   0.778</td> \n",
       "</tr>\n",
       "<tr>\n",
       "  <th>Model:</th>                   <td>OLS</td>       <th>  Adj. R-squared:    </th> <td>   0.775</td> \n",
       "</tr>\n",
       "<tr>\n",
       "  <th>Method:</th>             <td>Least Squares</td>  <th>  F-statistic:       </th> <td>   276.5</td> \n",
       "</tr>\n",
       "<tr>\n",
       "  <th>Date:</th>             <td>Sun, 27 Dec 2020</td> <th>  Prob (F-statistic):</th> <td>2.00e-126</td>\n",
       "</tr>\n",
       "<tr>\n",
       "  <th>Time:</th>                 <td>12:29:31</td>     <th>  Log-Likelihood:    </th> <td> -681.12</td> \n",
       "</tr>\n",
       "<tr>\n",
       "  <th>No. Observations:</th>      <td>   400</td>      <th>  AIC:               </th> <td>   1374.</td> \n",
       "</tr>\n",
       "<tr>\n",
       "  <th>Df Residuals:</th>          <td>   394</td>      <th>  BIC:               </th> <td>   1398.</td> \n",
       "</tr>\n",
       "<tr>\n",
       "  <th>Df Model:</th>              <td>     5</td>      <th>                     </th>     <td> </td>    \n",
       "</tr>\n",
       "<tr>\n",
       "  <th>Covariance Type:</th>      <td>nonrobust</td>    <th>                     </th>     <td> </td>    \n",
       "</tr>\n",
       "</table>\n",
       "<table class=\"simpletable\">\n",
       "<tr>\n",
       "          <td></td>            <th>coef</th>     <th>std err</th>      <th>t</th>      <th>P>|t|</th>  <th>[0.025</th>    <th>0.975]</th>  \n",
       "</tr>\n",
       "<tr>\n",
       "  <th>Intercept</th>        <td>    3.8444</td> <td>    0.564</td> <td>    6.810</td> <td> 0.000</td> <td>    2.735</td> <td>    4.954</td>\n",
       "</tr>\n",
       "<tr>\n",
       "  <th>CompPrice</th>        <td>    0.0937</td> <td>    0.005</td> <td>   17.366</td> <td> 0.000</td> <td>    0.083</td> <td>    0.104</td>\n",
       "</tr>\n",
       "<tr>\n",
       "  <th>Advertising</th>      <td>    0.1203</td> <td>    0.010</td> <td>   11.884</td> <td> 0.000</td> <td>    0.100</td> <td>    0.140</td>\n",
       "</tr>\n",
       "<tr>\n",
       "  <th>Price</th>            <td>   -0.0936</td> <td>    0.003</td> <td>  -26.741</td> <td> 0.000</td> <td>   -0.100</td> <td>   -0.087</td>\n",
       "</tr>\n",
       "<tr>\n",
       "  <th>ShelveLoc_Good</th>   <td>    4.7293</td> <td>    0.200</td> <td>   23.657</td> <td> 0.000</td> <td>    4.336</td> <td>    5.122</td>\n",
       "</tr>\n",
       "<tr>\n",
       "  <th>ShelveLoc_Medium</th> <td>    1.7728</td> <td>    0.164</td> <td>   10.814</td> <td> 0.000</td> <td>    1.450</td> <td>    2.095</td>\n",
       "</tr>\n",
       "</table>\n",
       "<table class=\"simpletable\">\n",
       "<tr>\n",
       "  <th>Omnibus:</th>       <td> 0.010</td> <th>  Durbin-Watson:     </th> <td>   2.208</td>\n",
       "</tr>\n",
       "<tr>\n",
       "  <th>Prob(Omnibus):</th> <td> 0.995</td> <th>  Jarque-Bera (JB):  </th> <td>   0.009</td>\n",
       "</tr>\n",
       "<tr>\n",
       "  <th>Skew:</th>          <td> 0.005</td> <th>  Prob(JB):          </th> <td>   0.996</td>\n",
       "</tr>\n",
       "<tr>\n",
       "  <th>Kurtosis:</th>      <td> 2.979</td> <th>  Cond. No.          </th> <td>1.46e+03</td>\n",
       "</tr>\n",
       "</table><br/><br/>Notes:<br/>[1] Standard Errors assume that the covariance matrix of the errors is correctly specified.<br/>[2] The condition number is large, 1.46e+03. This might indicate that there are<br/>strong multicollinearity or other numerical problems."
      ],
      "text/plain": [
       "<class 'statsmodels.iolib.summary.Summary'>\n",
       "\"\"\"\n",
       "                            OLS Regression Results                            \n",
       "==============================================================================\n",
       "Dep. Variable:                  Sales   R-squared:                       0.778\n",
       "Model:                            OLS   Adj. R-squared:                  0.775\n",
       "Method:                 Least Squares   F-statistic:                     276.5\n",
       "Date:                Sun, 27 Dec 2020   Prob (F-statistic):          2.00e-126\n",
       "Time:                        12:29:31   Log-Likelihood:                -681.12\n",
       "No. Observations:                 400   AIC:                             1374.\n",
       "Df Residuals:                     394   BIC:                             1398.\n",
       "Df Model:                           5                                         \n",
       "Covariance Type:            nonrobust                                         \n",
       "====================================================================================\n",
       "                       coef    std err          t      P>|t|      [0.025      0.975]\n",
       "------------------------------------------------------------------------------------\n",
       "Intercept            3.8444      0.564      6.810      0.000       2.735       4.954\n",
       "CompPrice            0.0937      0.005     17.366      0.000       0.083       0.104\n",
       "Advertising          0.1203      0.010     11.884      0.000       0.100       0.140\n",
       "Price               -0.0936      0.003    -26.741      0.000      -0.100      -0.087\n",
       "ShelveLoc_Good       4.7293      0.200     23.657      0.000       4.336       5.122\n",
       "ShelveLoc_Medium     1.7728      0.164     10.814      0.000       1.450       2.095\n",
       "==============================================================================\n",
       "Omnibus:                        0.010   Durbin-Watson:                   2.208\n",
       "Prob(Omnibus):                  0.995   Jarque-Bera (JB):                0.009\n",
       "Skew:                           0.005   Prob(JB):                        0.996\n",
       "Kurtosis:                       2.979   Cond. No.                     1.46e+03\n",
       "==============================================================================\n",
       "\n",
       "Notes:\n",
       "[1] Standard Errors assume that the covariance matrix of the errors is correctly specified.\n",
       "[2] The condition number is large, 1.46e+03. This might indicate that there are\n",
       "strong multicollinearity or other numerical problems.\n",
       "\"\"\""
      ]
     },
     "execution_count": 48,
     "metadata": {},
     "output_type": "execute_result"
    }
   ],
   "source": [
    "model_MLR_8.summary()"
   ]
  },
  {
   "cell_type": "markdown",
   "metadata": {},
   "source": [
    "##### Only for Predictive purposes of Linear Regression\n",
    "If we only wanted to predict using Linear Regression and was not looking for the model building aspect of it, we can do that as well. For this exercise, we will use the same variables as of Model 1, Model 6, Model 7 and Model 8.\n",
    "\n",
    "First we will split the data into train and test. We will build the model on the training data and check the RMSE on the test data."
   ]
  },
  {
   "cell_type": "code",
   "execution_count": 49,
   "metadata": {},
   "outputs": [],
   "source": [
    "lr = LinearRegression()"
   ]
  },
  {
   "cell_type": "markdown",
   "metadata": {},
   "source": [
    "Splitting the data into the dependent and independent variables."
   ]
  },
  {
   "cell_type": "code",
   "execution_count": 50,
   "metadata": {},
   "outputs": [],
   "source": [
    "X = df_dummy[['CompPrice', 'Income', 'Advertising', 'Population', 'Price',\n",
    "       'Age', 'Education', 'ShelveLoc_Good', 'ShelveLoc_Medium', 'Urban_Yes',\n",
    "       'US_Yes']].copy()\n",
    "Y = df_dummy['Sales']"
   ]
  },
  {
   "cell_type": "markdown",
   "metadata": {},
   "source": [
    "Splitting the data into train (70%) and test (30%)."
   ]
  },
  {
   "cell_type": "code",
   "execution_count": 51,
   "metadata": {},
   "outputs": [],
   "source": [
    "from sklearn.model_selection import train_test_split"
   ]
  },
  {
   "cell_type": "code",
   "execution_count": 52,
   "metadata": {},
   "outputs": [],
   "source": [
    "X_train, X_test, Y_train, Y_test = train_test_split(X,Y,test_size=0.3,random_state=1)"
   ]
  },
  {
   "cell_type": "markdown",
   "metadata": {},
   "source": [
    "###### Using only Model 1 variables to build the model on the training data and predict on the training as well as test data"
   ]
  },
  {
   "cell_type": "code",
   "execution_count": 53,
   "metadata": {},
   "outputs": [],
   "source": [
    "model_1 = lr.fit(X_train[['CompPrice', 'Income', 'Advertising', 'Population', 'Price',\n",
    "       'Age', 'Education', 'ShelveLoc_Good', 'ShelveLoc_Medium', 'Urban_Yes',\n",
    "       'US_Yes']],Y_train)\n",
    "#We are only using Linear Regression as a predictive tool and not a descriptive tool"
   ]
  },
  {
   "cell_type": "code",
   "execution_count": 54,
   "metadata": {},
   "outputs": [],
   "source": [
    "#Training Data Prediction\n",
    "\n",
    "model_1_pred_train = model_1.predict(X_train[['CompPrice', 'Income', 'Advertising', 'Population', 'Price',\n",
    "       'Age', 'Education', 'ShelveLoc_Good', 'ShelveLoc_Medium', 'Urban_Yes',\n",
    "       'US_Yes']])"
   ]
  },
  {
   "cell_type": "code",
   "execution_count": 55,
   "metadata": {},
   "outputs": [],
   "source": [
    "#Test Data Prediction\n",
    "\n",
    "model_1_pred_test = model_1.predict(X_test[['CompPrice', 'Income', 'Advertising', 'Population', 'Price',\n",
    "       'Age', 'Education', 'ShelveLoc_Good', 'ShelveLoc_Medium', 'Urban_Yes',\n",
    "       'US_Yes']])"
   ]
  },
  {
   "cell_type": "code",
   "execution_count": 56,
   "metadata": {},
   "outputs": [
    {
     "name": "stdout",
     "output_type": "stream",
     "text": [
      "Training Data RMSE of model_1: 1.0149047107984177\n",
      "Test Data     RMSE of model_1: 1.0590155450860237\n"
     ]
    }
   ],
   "source": [
    "print('Training Data RMSE of model_1:',metrics.mean_squared_error(Y_train,model_1_pred_train))\n",
    "print('Test Data     RMSE of model_1:',metrics.mean_squared_error(Y_test,model_1_pred_test))"
   ]
  },
  {
   "cell_type": "markdown",
   "metadata": {},
   "source": [
    "##### Using only Model 6 variables to build the model on the training data and predict on the training as well as test data."
   ]
  },
  {
   "cell_type": "code",
   "execution_count": 57,
   "metadata": {},
   "outputs": [],
   "source": [
    "model_6 = lr.fit(X_train[['CompPrice', 'Income', 'Advertising', 'Price',\n",
    "       'Age', 'ShelveLoc_Good', 'ShelveLoc_Medium']],Y_train)"
   ]
  },
  {
   "cell_type": "code",
   "execution_count": 58,
   "metadata": {},
   "outputs": [],
   "source": [
    "#Training Data Prediction\n",
    "\n",
    "model_6_pred_train = model_6.predict(X_train[['CompPrice', 'Income', 'Advertising', 'Price',\n",
    "       'Age', 'ShelveLoc_Good', 'ShelveLoc_Medium']])"
   ]
  },
  {
   "cell_type": "code",
   "execution_count": 59,
   "metadata": {},
   "outputs": [],
   "source": [
    "\n",
    "#Test Data Prediction\n",
    "\n",
    "model_6_pred_test = model_6.predict(X_test[['CompPrice', 'Income', 'Advertising', 'Price',\n",
    "       'Age', 'ShelveLoc_Good', 'ShelveLoc_Medium']])"
   ]
  },
  {
   "cell_type": "code",
   "execution_count": 60,
   "metadata": {},
   "outputs": [
    {
     "name": "stdout",
     "output_type": "stream",
     "text": [
      "Training Data RMSE of model_6: 1.0346873676133173\n",
      "Test Data     RMSE of model_6: 1.0228768932659837\n"
     ]
    }
   ],
   "source": [
    "print('Training Data RMSE of model_6:',metrics.mean_squared_error(Y_train,model_6_pred_train))\n",
    "print('Test Data     RMSE of model_6:',metrics.mean_squared_error(Y_test,model_6_pred_test))"
   ]
  },
  {
   "cell_type": "markdown",
   "metadata": {},
   "source": [
    "##### Using only Model 7 variables to build the model on the training data and predict on the training as well as test data."
   ]
  },
  {
   "cell_type": "code",
   "execution_count": 61,
   "metadata": {},
   "outputs": [],
   "source": [
    "model_7 = lr.fit(X_train[['CompPrice','Advertising', 'Price',\n",
    "       'Age', 'ShelveLoc_Good', 'ShelveLoc_Medium']],Y_train)"
   ]
  },
  {
   "cell_type": "code",
   "execution_count": 62,
   "metadata": {},
   "outputs": [],
   "source": [
    "#Training Data Prediction\n",
    "\n",
    "model_7_pred_train = model_7.predict(X_train[['CompPrice','Advertising', 'Price',\n",
    "       'Age', 'ShelveLoc_Good', 'ShelveLoc_Medium']])"
   ]
  },
  {
   "cell_type": "code",
   "execution_count": 63,
   "metadata": {},
   "outputs": [],
   "source": [
    "\n",
    "#Test Data Prediction\n",
    "\n",
    "model_7_pred_test = model_7.predict(X_test[['CompPrice','Advertising', 'Price',\n",
    "       'Age', 'ShelveLoc_Good', 'ShelveLoc_Medium']])"
   ]
  },
  {
   "cell_type": "code",
   "execution_count": 64,
   "metadata": {},
   "outputs": [
    {
     "name": "stdout",
     "output_type": "stream",
     "text": [
      "Training Data RMSE of model_7: 1.1799669367495877\n",
      "Test Data     RMSE of model_7: 1.3258332408651667\n"
     ]
    }
   ],
   "source": [
    "print('Training Data RMSE of model_7:',metrics.mean_squared_error(Y_train,model_7_pred_train))\n",
    "print('Test Data     RMSE of model_7:',metrics.mean_squared_error(Y_test,model_7_pred_test))"
   ]
  },
  {
   "cell_type": "markdown",
   "metadata": {},
   "source": [
    "##### Using only Model 8 variables to build the model on the training data and predict on the training as well as test data."
   ]
  },
  {
   "cell_type": "code",
   "execution_count": 65,
   "metadata": {},
   "outputs": [],
   "source": [
    "model_8 = lr.fit(X_train[['CompPrice','Advertising', 'Price',\n",
    "       'Age', 'ShelveLoc_Good']],Y_train)"
   ]
  },
  {
   "cell_type": "code",
   "execution_count": 66,
   "metadata": {},
   "outputs": [],
   "source": [
    "\n",
    "#Training Data Prediction\n",
    "\n",
    "model_8_pred_train = model_8.predict(X_train[['CompPrice','Advertising', 'Price',\n",
    "       'Age', 'ShelveLoc_Good']])"
   ]
  },
  {
   "cell_type": "code",
   "execution_count": 67,
   "metadata": {},
   "outputs": [],
   "source": [
    "\n",
    "#Test Data Prediction\n",
    "\n",
    "model_8_pred_test = model_8.predict(X_test[['CompPrice','Advertising', 'Price',\n",
    "       'Age', 'ShelveLoc_Good']])"
   ]
  },
  {
   "cell_type": "code",
   "execution_count": 68,
   "metadata": {},
   "outputs": [
    {
     "name": "stdout",
     "output_type": "stream",
     "text": [
      "Training Data RMSE of model_8: 1.8832046817645829\n",
      "Test Data     RMSE of model_8: 1.6118205782799389\n"
     ]
    }
   ],
   "source": [
    "print('Training Data RMSE of model_8:',metrics.mean_squared_error(Y_train,model_8_pred_train))\n",
    "print('Test Data     RMSE of model_8:',metrics.mean_squared_error(Y_test,model_8_pred_test))"
   ]
  },
  {
   "cell_type": "markdown",
   "metadata": {},
   "source": [
    "#### Scatteplot for the predictions"
   ]
  },
  {
   "cell_type": "code",
   "execution_count": 69,
   "metadata": {},
   "outputs": [
    {
     "data": {
      "image/png": "[encoded data removed]",
      "text/plain": [
       "<Figure size 432x288 with 4 Axes>"
      ]
     },
     "metadata": {
      "needs_background": "light"
     },
     "output_type": "display_data"
    }
   ],
   "source": [
    "\n",
    "# Training Data\n",
    "\n",
    "f,a =  plt.subplots(2,2,sharex=True)\n",
    "a[0][0].scatter(Y_train,model_1_pred_train)\n",
    "a[0][0].set_title('model_1')\n",
    "a[0][1].scatter(Y_train,model_6_pred_train)\n",
    "a[0][1].set_title('model_6')\n",
    "a[1][0].scatter(Y_train,model_7_pred_train)\n",
    "a[1][0].set_title('model_7')\n",
    "a[1][1].scatter(Y_train,model_8_pred_train)\n",
    "a[1][1].set_title('model_8')\n",
    "plt.show()"
   ]
  },
  {
   "cell_type": "code",
   "execution_count": 70,
   "metadata": {},
   "outputs": [
    {
     "data": {
      "image/png": "[encoded data removed]",
      "text/plain": [
       "<Figure size 432x288 with 4 Axes>"
      ]
     },
     "metadata": {
      "needs_background": "light"
     },
     "output_type": "display_data"
    }
   ],
   "source": [
    "# Test Data\n",
    "\n",
    "f,a =  plt.subplots(2,2,sharex=True)\n",
    "a[0][0].scatter(Y_test,model_1_pred_test)\n",
    "a[0][0].set_title('model_1')\n",
    "a[0][1].scatter(Y_test,model_6_pred_test)\n",
    "a[0][1].set_title('model_6')\n",
    "a[1][0].scatter(Y_test,model_7_pred_test)\n",
    "a[1][0].set_title('model_7')\n",
    "a[1][1].scatter(Y_test,model_8_pred_test)\n",
    "a[1][1].set_title('model_8')\n",
    "plt.show()"
   ]
  }
 ],
 "metadata": {
  "kernelspec": {
   "display_name": "Python 3",
   "language": "python",
   "name": "python3"
  },
  "language_info": {
   "codemirror_mode": {
    "name": "ipython",
    "version": 3
   },
   "file_extension": ".py",
   "mimetype": "text/x-python",
   "name": "python",
   "nbconvert_exporter": "python",
   "pygments_lexer": "ipython3",
   "version": "3.8.5"
  }
 },
 "nbformat": 4,
 "nbformat_minor": 4
}
